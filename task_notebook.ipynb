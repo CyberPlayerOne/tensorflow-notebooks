{
 "cells": [
  {
   "cell_type": "code",
   "execution_count": 2,
   "metadata": {
    "collapsed": false
   },
   "outputs": [
    {
     "name": "stderr",
     "output_type": "stream",
     "text": [
      "/home/tyler/anaconda3/lib/python3.6/site-packages/h5py/__init__.py:36: FutureWarning: Conversion of the second argument of issubdtype from `float` to `np.floating` is deprecated. In future, it will be treated as `np.float64 == np.dtype(float).type`.\n  from ._conv import register_converters as _register_converters\n"
     ]
    }
   ],
   "source": [
    "import pandas as pd\n",
    "import numpy as np\n",
    "import tensorflow as tf\n",
    "import os\n",
    "import math\n",
    "import nltk\n",
    "\n",
    "raw_data = pd.read_csv('./solution/ML Challenge Data.csv')"
   ]
  },
  {
   "cell_type": "markdown",
   "metadata": {},
   "source": [
    "## Exploratory Data Analysis"
   ]
  },
  {
   "cell_type": "code",
   "execution_count": 3,
   "metadata": {
    "collapsed": false
   },
   "outputs": [
    {
     "name": "stdout",
     "output_type": "stream",
     "text": [
      "<class 'pandas.core.frame.DataFrame'>\nRangeIndex: 101270 entries, 0 to 101269\nData columns (total 3 columns):\nestimated_hours    35172 non-null float64\nname               101270 non-null object\nprice              101270 non-null float64\ndtypes: float64(2), object(1)\nmemory usage: 2.3+ MB\nNone\n(101270, 3)\n"
     ]
    },
    {
     "data": {
      "text/html": [
       "<div>\n",
       "<style scoped>\n",
       "    .dataframe tbody tr th:only-of-type {\n",
       "        vertical-align: middle;\n",
       "    }\n",
       "\n",
       "    .dataframe tbody tr th {\n",
       "        vertical-align: top;\n",
       "    }\n",
       "\n",
       "    .dataframe thead th {\n",
       "        text-align: right;\n",
       "    }\n",
       "</style>\n",
       "<table border=\"1\" class=\"dataframe\">\n",
       "  <thead>\n",
       "    <tr style=\"text-align: right;\">\n",
       "      <th></th>\n",
       "      <th>estimated_hours</th>\n",
       "      <th>name</th>\n",
       "      <th>price</th>\n",
       "    </tr>\n",
       "  </thead>\n",
       "  <tbody>\n",
       "    <tr>\n",
       "      <th>0</th>\n",
       "      <td>NaN</td>\n",
       "      <td>Fix my Door</td>\n",
       "      <td>90.0</td>\n",
       "    </tr>\n",
       "    <tr>\n",
       "      <th>1</th>\n",
       "      <td>NaN</td>\n",
       "      <td>Website update</td>\n",
       "      <td>27.0</td>\n",
       "    </tr>\n",
       "    <tr>\n",
       "      <th>2</th>\n",
       "      <td>3.0</td>\n",
       "      <td>Clean my 2 bedroom / 2 bathroom house</td>\n",
       "      <td>75.0</td>\n",
       "    </tr>\n",
       "    <tr>\n",
       "      <th>3</th>\n",
       "      <td>NaN</td>\n",
       "      <td>Pick up from Dan Murphy deliver to Cranebrook</td>\n",
       "      <td>25.0</td>\n",
       "    </tr>\n",
       "    <tr>\n",
       "      <th>4</th>\n",
       "      <td>NaN</td>\n",
       "      <td>Move a small fridge from Glebe to Drummoyne</td>\n",
       "      <td>60.0</td>\n",
       "    </tr>\n",
       "    <tr>\n",
       "      <th>5</th>\n",
       "      <td>NaN</td>\n",
       "      <td>Instal sliders for 4 drawers</td>\n",
       "      <td>120.0</td>\n",
       "    </tr>\n",
       "    <tr>\n",
       "      <th>6</th>\n",
       "      <td>NaN</td>\n",
       "      <td>Moving couches</td>\n",
       "      <td>59.0</td>\n",
       "    </tr>\n",
       "    <tr>\n",
       "      <th>7</th>\n",
       "      <td>0.0</td>\n",
       "      <td>Butler for a day!</td>\n",
       "      <td>150.0</td>\n",
       "    </tr>\n",
       "    <tr>\n",
       "      <th>8</th>\n",
       "      <td>NaN</td>\n",
       "      <td>Research the 200 largest schools in the UK</td>\n",
       "      <td>20.0</td>\n",
       "    </tr>\n",
       "    <tr>\n",
       "      <th>9</th>\n",
       "      <td>NaN</td>\n",
       "      <td>Weeding and general maintenance</td>\n",
       "      <td>50.0</td>\n",
       "    </tr>\n",
       "  </tbody>\n",
       "</table>\n",
       "</div>"
      ],
      "text/plain": [
       "<div>\n",
       "<style scoped>\n",
       "    .dataframe tbody tr th:only-of-type {\n",
       "        vertical-align: middle;\n",
       "    }\n",
       "\n",
       "    .dataframe tbody tr th {\n",
       "        vertical-align: top;\n",
       "    }\n",
       "\n",
       "    .dataframe thead th {\n",
       "        text-align: right;\n",
       "    }\n",
       "</style>\n",
       "<table border=\"1\" class=\"dataframe\">\n",
       "  <thead>\n",
       "    <tr style=\"text-align: right;\">\n",
       "      <th></th>\n",
       "      <th>estimated_hours</th>\n",
       "      <th>name</th>\n",
       "      <th>price</th>\n",
       "    </tr>\n",
       "  </thead>\n",
       "  <tbody>\n",
       "    <tr>\n",
       "      <th>0</th>\n",
       "      <td>NaN</td>\n",
       "      <td>Fix my Door</td>\n",
       "      <td>90.0</td>\n",
       "    </tr>\n",
       "    <tr>\n",
       "      <th>1</th>\n",
       "      <td>NaN</td>\n",
       "      <td>Website update</td>\n",
       "      <td>27.0</td>\n",
       "    </tr>\n",
       "    <tr>\n",
       "      <th>2</th>\n",
       "      <td>3.0</td>\n",
       "      <td>Clean my 2 bedroom / 2 bathroom house</td>\n",
       "      <td>75.0</td>\n",
       "    </tr>\n",
       "    <tr>\n",
       "      <th>3</th>\n",
       "      <td>NaN</td>\n",
       "      <td>Pick up from Dan Murphy deliver to Cranebrook</td>\n",
       "      <td>25.0</td>\n",
       "    </tr>\n",
       "    <tr>\n",
       "      <th>4</th>\n",
       "      <td>NaN</td>\n",
       "      <td>Move a small fridge from Glebe to Drummoyne</td>\n",
       "      <td>60.0</td>\n",
       "    </tr>\n",
       "    <tr>\n",
       "      <th>5</th>\n",
       "      <td>NaN</td>\n",
       "      <td>Instal sliders for 4 drawers</td>\n",
       "      <td>120.0</td>\n",
       "    </tr>\n",
       "    <tr>\n",
       "      <th>6</th>\n",
       "      <td>NaN</td>\n",
       "      <td>Moving couches</td>\n",
       "      <td>59.0</td>\n",
       "    </tr>\n",
       "    <tr>\n",
       "      <th>7</th>\n",
       "      <td>0.0</td>\n",
       "      <td>Butler for a day!</td>\n",
       "      <td>150.0</td>\n",
       "    </tr>\n",
       "    <tr>\n",
       "      <th>8</th>\n",
       "      <td>NaN</td>\n",
       "      <td>Research the 200 largest schools in the UK</td>\n",
       "      <td>20.0</td>\n",
       "    </tr>\n",
       "    <tr>\n",
       "      <th>9</th>\n",
       "      <td>NaN</td>\n",
       "      <td>Weeding and general maintenance</td>\n",
       "      <td>50.0</td>\n",
       "    </tr>\n",
       "  </tbody>\n",
       "</table>\n",
       "</div>"
      ]
     },
     "execution_count": 3,
     "metadata": {},
     "output_type": "execute_result"
    }
   ],
   "source": [
    "print(raw_data.info())\n",
    "print(raw_data.shape)\n",
    "raw_data.head(10)"
   ]
  },
  {
   "cell_type": "code",
   "execution_count": 4,
   "metadata": {
    "collapsed": false
   },
   "outputs": [
    {
     "data": {
      "text/html": [
       "<div>\n",
       "<style scoped>\n",
       "    .dataframe tbody tr th:only-of-type {\n",
       "        vertical-align: middle;\n",
       "    }\n",
       "\n",
       "    .dataframe tbody tr th {\n",
       "        vertical-align: top;\n",
       "    }\n",
       "\n",
       "    .dataframe thead th {\n",
       "        text-align: right;\n",
       "    }\n",
       "</style>\n",
       "<table border=\"1\" class=\"dataframe\">\n",
       "  <thead>\n",
       "    <tr style=\"text-align: right;\">\n",
       "      <th></th>\n",
       "      <th>estimated_hours</th>\n",
       "      <th>name</th>\n",
       "      <th>price</th>\n",
       "    </tr>\n",
       "  </thead>\n",
       "  <tbody>\n",
       "    <tr>\n",
       "      <th>0</th>\n",
       "      <td>0.0</td>\n",
       "      <td>Fix my Door</td>\n",
       "      <td>90.0</td>\n",
       "    </tr>\n",
       "    <tr>\n",
       "      <th>1</th>\n",
       "      <td>0.0</td>\n",
       "      <td>Website update</td>\n",
       "      <td>27.0</td>\n",
       "    </tr>\n",
       "    <tr>\n",
       "      <th>2</th>\n",
       "      <td>3.0</td>\n",
       "      <td>Clean my 2 bedroom / 2 bathroom house</td>\n",
       "      <td>75.0</td>\n",
       "    </tr>\n",
       "    <tr>\n",
       "      <th>3</th>\n",
       "      <td>0.0</td>\n",
       "      <td>Pick up from Dan Murphy deliver to Cranebrook</td>\n",
       "      <td>25.0</td>\n",
       "    </tr>\n",
       "    <tr>\n",
       "      <th>4</th>\n",
       "      <td>0.0</td>\n",
       "      <td>Move a small fridge from Glebe to Drummoyne</td>\n",
       "      <td>60.0</td>\n",
       "    </tr>\n",
       "    <tr>\n",
       "      <th>5</th>\n",
       "      <td>0.0</td>\n",
       "      <td>Instal sliders for 4 drawers</td>\n",
       "      <td>120.0</td>\n",
       "    </tr>\n",
       "    <tr>\n",
       "      <th>6</th>\n",
       "      <td>0.0</td>\n",
       "      <td>Moving couches</td>\n",
       "      <td>59.0</td>\n",
       "    </tr>\n",
       "    <tr>\n",
       "      <th>7</th>\n",
       "      <td>0.0</td>\n",
       "      <td>Butler for a day!</td>\n",
       "      <td>150.0</td>\n",
       "    </tr>\n",
       "    <tr>\n",
       "      <th>8</th>\n",
       "      <td>0.0</td>\n",
       "      <td>Research the 200 largest schools in the UK</td>\n",
       "      <td>20.0</td>\n",
       "    </tr>\n",
       "    <tr>\n",
       "      <th>9</th>\n",
       "      <td>0.0</td>\n",
       "      <td>Weeding and general maintenance</td>\n",
       "      <td>50.0</td>\n",
       "    </tr>\n",
       "  </tbody>\n",
       "</table>\n",
       "</div>"
      ],
      "text/plain": [
       "<div>\n",
       "<style scoped>\n",
       "    .dataframe tbody tr th:only-of-type {\n",
       "        vertical-align: middle;\n",
       "    }\n",
       "\n",
       "    .dataframe tbody tr th {\n",
       "        vertical-align: top;\n",
       "    }\n",
       "\n",
       "    .dataframe thead th {\n",
       "        text-align: right;\n",
       "    }\n",
       "</style>\n",
       "<table border=\"1\" class=\"dataframe\">\n",
       "  <thead>\n",
       "    <tr style=\"text-align: right;\">\n",
       "      <th></th>\n",
       "      <th>estimated_hours</th>\n",
       "      <th>name</th>\n",
       "      <th>price</th>\n",
       "    </tr>\n",
       "  </thead>\n",
       "  <tbody>\n",
       "    <tr>\n",
       "      <th>0</th>\n",
       "      <td>0.0</td>\n",
       "      <td>Fix my Door</td>\n",
       "      <td>90.0</td>\n",
       "    </tr>\n",
       "    <tr>\n",
       "      <th>1</th>\n",
       "      <td>0.0</td>\n",
       "      <td>Website update</td>\n",
       "      <td>27.0</td>\n",
       "    </tr>\n",
       "    <tr>\n",
       "      <th>2</th>\n",
       "      <td>3.0</td>\n",
       "      <td>Clean my 2 bedroom / 2 bathroom house</td>\n",
       "      <td>75.0</td>\n",
       "    </tr>\n",
       "    <tr>\n",
       "      <th>3</th>\n",
       "      <td>0.0</td>\n",
       "      <td>Pick up from Dan Murphy deliver to Cranebrook</td>\n",
       "      <td>25.0</td>\n",
       "    </tr>\n",
       "    <tr>\n",
       "      <th>4</th>\n",
       "      <td>0.0</td>\n",
       "      <td>Move a small fridge from Glebe to Drummoyne</td>\n",
       "      <td>60.0</td>\n",
       "    </tr>\n",
       "    <tr>\n",
       "      <th>5</th>\n",
       "      <td>0.0</td>\n",
       "      <td>Instal sliders for 4 drawers</td>\n",
       "      <td>120.0</td>\n",
       "    </tr>\n",
       "    <tr>\n",
       "      <th>6</th>\n",
       "      <td>0.0</td>\n",
       "      <td>Moving couches</td>\n",
       "      <td>59.0</td>\n",
       "    </tr>\n",
       "    <tr>\n",
       "      <th>7</th>\n",
       "      <td>0.0</td>\n",
       "      <td>Butler for a day!</td>\n",
       "      <td>150.0</td>\n",
       "    </tr>\n",
       "    <tr>\n",
       "      <th>8</th>\n",
       "      <td>0.0</td>\n",
       "      <td>Research the 200 largest schools in the UK</td>\n",
       "      <td>20.0</td>\n",
       "    </tr>\n",
       "    <tr>\n",
       "      <th>9</th>\n",
       "      <td>0.0</td>\n",
       "      <td>Weeding and general maintenance</td>\n",
       "      <td>50.0</td>\n",
       "    </tr>\n",
       "  </tbody>\n",
       "</table>\n",
       "</div>"
      ]
     },
     "execution_count": 4,
     "metadata": {},
     "output_type": "execute_result"
    }
   ],
   "source": [
    "raw_data.fillna(0.0, inplace=True)\n",
    "raw_data.head(10)\n"
   ]
  },
  {
   "cell_type": "code",
   "execution_count": 5,
   "metadata": {},
   "outputs": [
    {
     "data": {
      "text/plain": [
       "<matplotlib.figure.Figure at 0x7f5e60dfeb70>"
      ]
     },
     "execution_count": 0,
     "metadata": {},
     "output_type": "execute_result"
    },
    {
     "data": {
      "text/plain": [
       "<matplotlib.figure.Figure at 0x7f5e5746d7b8>"
      ]
     },
     "execution_count": 0,
     "metadata": {},
     "output_type": "execute_result"
    }
   ],
   "source": [
    "import seaborn as sns\n",
    "import matplotlib.pyplot as plt\n",
    "sns.distplot(raw_data['estimated_hours'], kde=True)\n",
    "plt.show()\n",
    "sns.distplot(raw_data['price'], kde=True)\n",
    "plt.show()"
   ]
  },
  {
   "cell_type": "code",
   "execution_count": 6,
   "metadata": {
    "collapsed": false
   },
   "outputs": [
    {
     "name": "stdout",
     "output_type": "stream",
     "text": [
      "2 3.0 Clean my 2 bedroom / 2 bathroom house 75.0\n43 2.0 Clean my 3 bedroom / 2 bathroom house. 66.0\n50 0.0 Clean my 2 bedroom / 1 bathroom apartment 45.0\n91 0.0 Clean my 4 bedroom / 2 bathroom house 160.0\n97 0.0 Clean my 4 bedroom / 2.5 bathroom house 90.0\n99 0.0 Clean a 2 bedroom and 1 bathroom house &balcony 80.0\n107 2.0 Clean my 2 bedroom / 1 bathroom house 71.0\n114 3.0 Clean my 3 bedroom / 2 bathroom house. 240.0\n123 0.0 Clean my 1 bedroom / 2 bathroom apartment 42.0\n137 0.0 Clean my 3 bedroom / 1 bathroom house 150.0\n148 0.0 Clean my 2 bedroom / 1 bathroom house 150.0\n179 2.0 Clean my 2 bedroom / 2 bathroom house. 50.0\n194 1.5 Clean my 1 bedroom / 1 bathroom apartment. 38.0\n197 0.0 Clean my 1 bedroom / 1 bathroom apartment 90.0\n208 9.0 Clean my 4 bedroom / 2 bathroom house. 225.0\n212 0.0 Clean my 1 bedroom / 1 bathroom apartment 200.0\n213 4.0 Clean my 3 bedroom / 1 bathroom house 140.0\n241 0.0 Clean my 3 bedroom / 1 bathroom house on 18/11 130.0\n244 0.0 Clean my 1 bedroom / 1 bathroom apartment 30.0\n252 0.0 Clean my 2 bedroom / 1 bathroom house 235.0\n259 2.0 Clean my 2 bedroom / 1 bathroom apartment. 71.0\n279 0.0 Clean my 2 bedroom / 1 bathroom apartment 140.0\n281 0.0 Clean my 2 bedroom / 2 bathroom apartment 40.0\n285 3.0 Clean my 4 bedroom / 3 bathroom house 60.0\n288 0.0 Clean my 1 bedroom / 1 bathroom house 59.0\n291 0.0 Clean my 2 bedroom / 1 bathroom apartment 60.0\n293 2.0 Clean my 2 bedroom / 1 bathroom apartment. 120.0\n313 0.0 Clean 1 bedroom and 1 bathroom in my apartment 85.0\n318 0.0 Clean my small 2 bedroom / 2 bathroom apartment 300.0\n320 5.0 Clean my 1 bedroom / 1 bathroom apartment. 200.0\n321 0.0 Clean my 2 bedroom / 1 bathroom house 50.0\n324 7.0 Clean my 4 bedroom / 2 bathroom house. 325.0\n329 0.0 Clean my 2 bedroom / 2 bathroom house. 200.0\n335 3.0 Clean my 3 bedroom / 2 bathroom house. 75.0\n339 1.5 Clean my 2 bedroom / 1 bathroom house. 45.0\n342 0.0 Clean a 2 bedroom / 2 bathroom apartment 150.0\n356 0.0 Clean my 2 bedroom / 1 bathroom apartment 100.0\n382 0.0 Clean my 1 bedroom / 1 bathroom apartment 80.0\n385 4.5 Clean my 3 bedroom / 1 bathroom house. 120.0\n388 0.0 Clean my 1 bedroom / 1 bathroom house 100.0\n394 2.0 Clean my 2 bedroom / 1 bathroom apartment. 107.0\n399 0.0 Clean my 2 bedroom / 1 bathroom apartment 70.0\n404 5.0 Clean my 2 bedroom / 2 bathroom house. 125.0\n410 0.0 Clean my 3 bedroom / 1 bathroom house 80.0\n411 1.5 Clean my 1 bedroom / 1 bathroom apartment. 53.0\n413 7.0 Clean my 3 bedroom / 2 bathroom house. 175.0\n418 0.0 Clean my 2 bedroom / 1 bathroom apartment 120.0\n443 4.0 Clean my 4 bedroom / 3 bathroom house. 100.0\n454 3.0 Clean my 3 bedroom / 2 bathroom house 160.0\n477 6.0 Clean my 5 bedroom / 3 bathroom house. 170.0\n"
     ]
    }
   ],
   "source": [
    "i = 0\n",
    "for index, row in raw_data.iterrows():\n",
    "    if 'bedroom' in row['name'] and 'bathroom' in row['name'] and i < 50:\n",
    "        print('{} {} {} {}'.format(index, row['estimated_hours'], row['name'], row['price']))\n",
    "        i = i + 1\n",
    "del i"
   ]
  },
  {
   "cell_type": "markdown",
   "metadata": {},
   "source": [
    "## Text Cleaning, Tokenization & Text Data Preparation for Word2vec"
   ]
  },
  {
   "cell_type": "code",
   "execution_count": 7,
   "metadata": {},
   "outputs": [
    {
     "name": "stdout",
     "output_type": "stream",
     "text": [
      "527088\n['#', 'fix', 'door', '#', 'website', 'update', '#', 'clean', '2', 'bedroom', '2', 'bathroom', 'house', '#', 'pick', 'dan', 'murphy', 'deliver', 'cranebrook', '#', 'move', 'small', 'fridge', 'glebe', 'drummoyne', '#', 'instal', 'slider', '4', 'drawer', '#', 'moving', 'couch', '#', 'butler', 'day', '#', 'research', '200', 'largest', 'school', 'uk', '#', 'weeding', 'general', 'maintenance', '#', 'electrical', 'work', 'small', 'bathroom', '#', 'spring', 'clean', 'req', 'saturday', 'morning', '1st', 'oct', '#', 'deliver', 'bed', 'box', '#', 'small', 'moving', 'job', 'sunday', '500m', 'street', '#', 'clean', 'organize', 'today', '#', 'website', 'maintenance', '#', 'labouring', 'landscaping', '#', 'backyard', 'need', 'good', 'work', '#', 'end', 'lease', 'clean', 'bed', 'unit', 'steam', 'clean', '2', 'room', '#', 'babysitting', 'baby', 'going', 'asleep', '#', 'pick', '610l', 'bought', 'gumtree', '#', 'mow', 'nature', 'strip', 'lay', 'mulch', 'clean', 'courtyard', '#', 'wall', 'mount', 'heavy', 'large', 'mirror', 'gyprock', 'wall', '#', 'paint', 'back', 'fence', '#', 'electrician', 'needed', 'yarraville', '#', 'back', 'lawn', 'whipper', 'snip', '#', 'remove', 'one', 'stadio', 'apartment', '#', 'graffiti', 'artist', 'wanted', '#', 'lawn', 'mowing', 'small', 'area', '#', 'deliver', 'trailer', 'melbourne', '#', 'practice', 'management', 'admin', 'data', 'entry', 'e', 'filing', '#', 'inspect', 'apartment', 'lease', '#', 'mow', 'back', 'yard', 'side', 'house', '#', 'move', 'table', 'apartment', 'afternoon', '#', 'party', 'waitstaff', '#', 'two', 'sofa', 'moved', 'balwyn', 'templestowe', '#', 'patch', 'hole', 'wall', 'urgent', '#', 'invite', 'romantic', 'facebook', 'group', '#', 'need', 'help', 'moving', 'bed', 'bedside']\n"
     ]
    }
   ],
   "source": [
    "import re\n",
    "\n",
    "import string\n",
    "table = str.maketrans('', '', string.punctuation)\n",
    "\n",
    "from nltk.corpus import stopwords\n",
    "stop_words = set(stopwords.words('english'))\n",
    "\n",
    "lemma = nltk.stem.WordNetLemmatizer()\n",
    "\n",
    "\n",
    "def tokenize_name(name):\n",
    "    # tokens = nltk.word_tokenize(str(name).lower()) # bad 'a/b' are removed\n",
    "    tokens = re.split('\\W+', str(name).lower())\n",
    "    tokens = [lemma.lemmatize(w.translate(table)) for w in tokens if w.isalnum() and not w in stop_words] # original: w.isalpha()\n",
    "    return tokens\n",
    "\n",
    "all_words_hash = []\n",
    "\n",
    "for name in raw_data['name']:\n",
    "    # print(name)\n",
    "    all_words_hash.append('#')\n",
    "    all_words_hash.extend(tokenize_name(name))  # !! Some numbers mean quantity which could be useful features \n",
    "    \n",
    "print(len(all_words_hash))\n",
    "print(all_words_hash[:200])\n"
   ]
  },
  {
   "cell_type": "code",
   "execution_count": 8,
   "metadata": {},
   "outputs": [
    {
     "name": "stdout",
     "output_type": "stream",
     "text": [
      "13201\n[('#', 101270), ('clean', 17997), ('bedroom', 13378), ('2', 12350), ('bathroom', 11109), ('1', 9469), ('house', 9179), ('apartment', 7071), ('pick', 5687), ('3', 5556)]\nlen(dictionary): 13200\nlen(data): 527088\n['#', 32, 31, '#', 37, 294, '#', 0, 2, 1, 2, 3, 5, '#', 7, 4809, 4810, 9, 4244, '#', 10, 17, 33, 600, 1243, '#', 907, 3498, 19, 160, '#', 14, 41, '#', 2680, 178, '#', 145, 812, 7718, 955, 4811, '#', 53, 40, 44, '#', 432, 77, 17]\n"
     ]
    }
   ],
   "source": [
    "import collections\n",
    "\n",
    "word_counter = collections.Counter(all_words_hash).most_common()\n",
    "print(len(word_counter))\n",
    "print(word_counter[:10])\n",
    "\n",
    "dictionary = dict()\n",
    "for word, _ in word_counter:\n",
    "    if word != '#':\n",
    "        dictionary[word] = len(dictionary)\n",
    "\n",
    "dictionary_size = len(dictionary)\n",
    "print('len(dictionary): {}'.format(len(dictionary)))\n",
    "# print(dictionary)\n",
    "\n",
    "data = list()\n",
    "for word in all_words_hash:\n",
    "    if word in dictionary:\n",
    "        index = dictionary[word]\n",
    "        data.append(index)\n",
    "    else:\n",
    "        data.append('#')\n",
    "        \n",
    "reverse_dictionary = dict(zip(dictionary.values(), dictionary.keys()))\n",
    "\n",
    "print('len(data): {}'.format(len(data)))\n",
    "print(data[:50])"
   ]
  },
  {
   "cell_type": "code",
   "execution_count": 9,
   "metadata": {},
   "outputs": [
    {
     "name": "stdout",
     "output_type": "stream",
     "text": [
      "[32, 31, 37, 294, 0, 0, 2, 2, 2, 1, 1, 1, 1, 2, 2, 2, 2, 3, 3, 3]\n[31, 32, 294, 37, 2, 1, 0, 1, 2, 2, 0, 2, 3, 1, 2, 3, 5, 2, 1, 5]\n\n[32, 31, 37, 294, 0, 0, 2, 2, 2, 1]\n[31, 32, 294, 37, 2, 1, 0, 1, 2, 2]\n[1, 1, 1, 2, 2, 2, 2, 3, 3, 3]\n[0, 2, 3, 1, 2, 3, 5, 2, 1, 5]\n"
     ]
    }
   ],
   "source": [
    "# Generate training data sequence for Skip-Gram \n",
    "def generate_training_sequence_skipgram(window_size=2):\n",
    "    input_words = []\n",
    "    context_words = []\n",
    "    for i in range(len(data)):\n",
    "        if data[i] != '#':\n",
    "            l = r = 1\n",
    "            while l <= window_size and i - l >= 0:\n",
    "                if data[i - l] != '#':\n",
    "                    input_words.append(data[i])\n",
    "                    context_words.append(data[i - l])\n",
    "                    l += 1\n",
    "                else:\n",
    "                    break\n",
    "            while r <= window_size and i + r < len(data):\n",
    "                if data[i + r] != '#':\n",
    "                    input_words.append(data[i])\n",
    "                    context_words.append(data[i + r])\n",
    "                    r += 1\n",
    "                else:\n",
    "                    break\n",
    "    del i, l, r\n",
    "    return input_words, context_words\n",
    "\n",
    "\n",
    "input_words, context_words = generate_training_sequence_skipgram()\n",
    "\n",
    "print(input_words[:20])\n",
    "print(context_words[:20])\n",
    "print()\n",
    "\n",
    "training_sequence_index = 0\n",
    "# Generate a training data batch\n",
    "def generate_batch_skipgram(batch_size=128):\n",
    "    global training_sequence_index\n",
    "    # two numpy arrays to hold target words\n",
    "    # and context words (labels)\n",
    "    batch = np.ndarray(shape=(batch_size), dtype=np.int32)\n",
    "    labels = np.ndarray(shape=(batch_size, 1), dtype=np.int32)\n",
    "\n",
    "    batch_index = 0\n",
    "    while batch_index < batch_size:\n",
    "        batch[batch_index] = input_words[training_sequence_index]\n",
    "        labels[batch_index] = context_words[training_sequence_index]\n",
    "        batch_index += 1\n",
    "        training_sequence_index = (training_sequence_index + 1) % len(input_words)\n",
    "    del batch_index\n",
    "    return batch, labels\n",
    "\n",
    "\n",
    "for i in range(2):\n",
    "    batch, labels = generate_batch_skipgram(10)\n",
    "    print(batch.tolist())\n",
    "    print(labels.reshape(10).tolist())\n"
   ]
  },
  {
   "cell_type": "markdown",
   "metadata": {},
   "source": [
    "## Defining the TF Graph for Skip-Gram"
   ]
  },
  {
   "cell_type": "code",
   "execution_count": 10,
   "metadata": {},
   "outputs": [
    {
     "name": "stdout",
     "output_type": "stream",
     "text": [
      "1 epoch for the whole training sequence contains 8569.03125 batches.\n"
     ]
    }
   ],
   "source": [
    "batch_size = 128\n",
    "embedding_size = 128\n",
    "# window_size = 2\n",
    "\n",
    "num_sampled = 32  # Number of negative examples to sample.\n",
    "\n",
    "print('1 epoch for the whole training sequence contains {} batches.'\n",
    "      .format(len(input_words) / batch_size))"
   ]
  },
  {
   "cell_type": "code",
   "execution_count": 11,
   "metadata": {},
   "outputs": [],
   "source": [
    "import tensorflow as tf\n",
    "import math\n",
    "\n",
    "tf.reset_default_graph()\n",
    "\n",
    "# Define inputs and outputs -----------------\n",
    "# Training input data (target word IDs) \n",
    "train_dataset = tf.placeholder(tf.int32, shape=[batch_size], name='batch_input')\n",
    "# Training input label data (context word IDs)\n",
    "train_labels = tf.placeholder(tf.int32, shape=[batch_size, 1], name='batch_labels')\n",
    "\n",
    "# Embedding layer, containing the word embeddings -------\n",
    "embeddings = tf.Variable(\n",
    "    tf.random_uniform([dictionary_size, embedding_size], -1.0, 1.0),\n",
    "    name='embeddings')\n",
    "\n",
    "# Softmax layer weights and biases\n",
    "softmax_weights = tf.Variable(\n",
    "    tf.truncated_normal([dictionary_size, embedding_size], stddev=0.5 / math.sqrt(embedding_size)),\n",
    "    name='softmax_weights')\n",
    "softmax_biases = tf.Variable(\n",
    "    tf.random_uniform([dictionary_size], 0.0, 0.01),\n",
    "    name='softmax_biases')\n"
   ]
  },
  {
   "cell_type": "code",
   "execution_count": 12,
   "metadata": {},
   "outputs": [],
   "source": [
    "# Look up embeddings for a batch of inputs\n",
    "embed = tf.nn.embedding_lookup(embeddings, train_dataset, name='batch_embed')\n",
    "# Compute the softmax loss, using a sample of the negative labels each time\n",
    "loss = tf.reduce_mean(\n",
    "    tf.nn.sampled_softmax_loss(\n",
    "        weights=softmax_weights, biases=softmax_biases, inputs=embed,\n",
    "        labels=train_labels, num_sampled=num_sampled, num_classes=dictionary_size),\n",
    "    name='batch_loss'\n",
    ")\n",
    "\n",
    "norm = tf.sqrt(tf.reduce_sum(tf.square(embeddings), 1, keepdims=True))\n",
    "normalized_embeddings = embeddings / norm\n",
    "\n",
    "# optimizer\n",
    "optimizer = tf.train.AdagradOptimizer(1).minimize(loss)"
   ]
  },
  {
   "cell_type": "markdown",
   "metadata": {},
   "source": [
    "## Running the skip-gram algorithm"
   ]
  },
  {
   "cell_type": "code",
   "execution_count": 138,
   "metadata": {
    "collapsed": false
   },
   "outputs": [
    {
     "name": "stdout",
     "output_type": "stream",
     "text": [
      "Initialized\n"
     ]
    },
    {
     "name": "stdout",
     "output_type": "stream",
     "text": [
      "Average loss at step 2000: 3.241652318894863\n"
     ]
    },
    {
     "name": "stdout",
     "output_type": "stream",
     "text": [
      "Average loss at step 4000: 2.745410213768482\n"
     ]
    },
    {
     "name": "stdout",
     "output_type": "stream",
     "text": [
      "Average loss at step 6000: 2.610284412920475\n"
     ]
    },
    {
     "name": "stdout",
     "output_type": "stream",
     "text": [
      "Average loss at step 8000: 2.5266056949496267\n"
     ]
    },
    {
     "name": "stdout",
     "output_type": "stream",
     "text": [
      "Average loss at step 10000: 2.3830029976367952\n"
     ]
    },
    {
     "name": "stdout",
     "output_type": "stream",
     "text": [
      "Average loss at step 12000: 2.314584840476513\n"
     ]
    },
    {
     "name": "stdout",
     "output_type": "stream",
     "text": [
      "Average loss at step 14000: 2.288895697772503\n"
     ]
    },
    {
     "name": "stdout",
     "output_type": "stream",
     "text": [
      "Average loss at step 16000: 2.274650513291359\n"
     ]
    },
    {
     "name": "stdout",
     "output_type": "stream",
     "text": [
      "Average loss at step 18000: 2.221261960327625\n"
     ]
    },
    {
     "name": "stdout",
     "output_type": "stream",
     "text": [
      "Average loss at step 20000: 2.1556148161292077\n"
     ]
    },
    {
     "name": "stdout",
     "output_type": "stream",
     "text": [
      "Average loss at step 22000: 2.156188337266445\n"
     ]
    },
    {
     "name": "stdout",
     "output_type": "stream",
     "text": [
      "Average loss at step 24000: 2.1378716554045676\n"
     ]
    },
    {
     "name": "stdout",
     "output_type": "stream",
     "text": [
      "Average loss at step 26000: 2.124132504582405\n"
     ]
    },
    {
     "name": "stdout",
     "output_type": "stream",
     "text": [
      "Average loss at step 28000: 2.066882074654102\n"
     ]
    },
    {
     "name": "stdout",
     "output_type": "stream",
     "text": [
      "Average loss at step 30000: 2.066848569571972\n"
     ]
    },
    {
     "name": "stdout",
     "output_type": "stream",
     "text": [
      "Average loss at step 32000: 2.049090377449989\n"
     ]
    },
    {
     "name": "stdout",
     "output_type": "stream",
     "text": [
      "Average loss at step 34000: 2.051524070739746\n"
     ]
    },
    {
     "name": "stdout",
     "output_type": "stream",
     "text": [
      "Average loss at step 36000: 2.0084384450614454\n"
     ]
    },
    {
     "name": "stdout",
     "output_type": "stream",
     "text": [
      "Average loss at step 38000: 1.995074445962906\n"
     ]
    },
    {
     "name": "stdout",
     "output_type": "stream",
     "text": [
      "Average loss at step 40000: 1.9871801203489303\n"
     ]
    },
    {
     "name": "stdout",
     "output_type": "stream",
     "text": [
      "Average loss at step 42000: 1.9848489330410957\n"
     ]
    },
    {
     "name": "stdout",
     "output_type": "stream",
     "text": [
      "Average loss at step 44000: 1.9716495359539985\n"
     ]
    },
    {
     "name": "stdout",
     "output_type": "stream",
     "text": [
      "Average loss at step 46000: 1.9422860332131386\n"
     ]
    },
    {
     "name": "stdout",
     "output_type": "stream",
     "text": [
      "Average loss at step 48000: 1.9330031372904777\n"
     ]
    },
    {
     "name": "stdout",
     "output_type": "stream",
     "text": [
      "Average loss at step 50000: 1.9345553676486016\n"
     ]
    },
    {
     "name": "stdout",
     "output_type": "stream",
     "text": [
      "Average loss at step 52000: 1.9287493004202843\n"
     ]
    },
    {
     "name": "stdout",
     "output_type": "stream",
     "text": [
      "Average loss at step 54000: 1.9098981444835663\n"
     ]
    },
    {
     "name": "stdout",
     "output_type": "stream",
     "text": [
      "Average loss at step 56000: 1.8966344091296197\n"
     ]
    },
    {
     "name": "stdout",
     "output_type": "stream",
     "text": [
      "Average loss at step 58000: 1.898296860218048\n"
     ]
    },
    {
     "name": "stdout",
     "output_type": "stream",
     "text": [
      "Average loss at step 60000: 1.889646147787571\n"
     ]
    },
    {
     "name": "stdout",
     "output_type": "stream",
     "text": [
      "Average loss at step 62000: 1.8750580285191536\n"
     ]
    },
    {
     "name": "stdout",
     "output_type": "stream",
     "text": [
      "Average loss at step 64000: 1.8666314401030542\n"
     ]
    },
    {
     "name": "stdout",
     "output_type": "stream",
     "text": [
      "Average loss at step 66000: 1.8634687583744527\n"
     ]
    },
    {
     "name": "stdout",
     "output_type": "stream",
     "text": [
      "Average loss at step 68000: 1.8617111182212829\n"
     ]
    },
    {
     "name": "stdout",
     "output_type": "stream",
     "text": [
      "Average loss at step 70000: 1.8591571940779685\n"
     ]
    },
    {
     "name": "stdout",
     "output_type": "stream",
     "text": [
      "Average loss at step 72000: 1.8371652455925942\n"
     ]
    },
    {
     "name": "stdout",
     "output_type": "stream",
     "text": [
      "Average loss at step 74000: 1.835436709076166\n"
     ]
    },
    {
     "name": "stdout",
     "output_type": "stream",
     "text": [
      "Average loss at step 76000: 1.8354060584902763\n"
     ]
    },
    {
     "name": "stdout",
     "output_type": "stream",
     "text": [
      "Average loss at step 78000: 1.8297334272563457\n"
     ]
    },
    {
     "name": "stdout",
     "output_type": "stream",
     "text": [
      "Average loss at step 80000: 1.8089122635126114\n"
     ]
    },
    {
     "name": "stdout",
     "output_type": "stream",
     "text": [
      "Average loss at step 82000: 1.8133302567601204\n"
     ]
    },
    {
     "name": "stdout",
     "output_type": "stream",
     "text": [
      "Average loss at step 84000: 1.813532727599144\n"
     ]
    },
    {
     "name": "stdout",
     "output_type": "stream",
     "text": [
      "Average loss at step 86000: 1.806935984224081\n"
     ]
    },
    {
     "name": "stdout",
     "output_type": "stream",
     "text": [
      "Average loss at step 88000: 1.7936104035973548\n"
     ]
    },
    {
     "name": "stdout",
     "output_type": "stream",
     "text": [
      "Average loss at step 90000: 1.7939528404176235\n"
     ]
    },
    {
     "name": "stdout",
     "output_type": "stream",
     "text": [
      "Average loss at step 92000: 1.7902532894313334\n"
     ]
    },
    {
     "name": "stdout",
     "output_type": "stream",
     "text": [
      "Average loss at step 94000: 1.791823247164488\n"
     ]
    },
    {
     "name": "stdout",
     "output_type": "stream",
     "text": [
      "Average loss at step 96000: 1.785729988873005\n"
     ]
    },
    {
     "name": "stdout",
     "output_type": "stream",
     "text": [
      "Average loss at step 98000: 1.7742825089991092\n"
     ]
    },
    {
     "name": "stdout",
     "output_type": "stream",
     "text": [
      "Average loss at step 100000: 1.7709133488237858\n"
     ]
    },
    {
     "name": "stdout",
     "output_type": "stream",
     "text": [
      "Average loss at step 102000: 1.7740261247158051\n"
     ]
    },
    {
     "name": "stdout",
     "output_type": "stream",
     "text": [
      "Average loss at step 104000: 1.7705297256112098\n"
     ]
    },
    {
     "name": "stdout",
     "output_type": "stream",
     "text": [
      "Average loss at step 106000: 1.7541005908250809\n"
     ]
    },
    {
     "name": "stdout",
     "output_type": "stream",
     "text": [
      "Average loss at step 108000: 1.7478522995114327\n"
     ]
    },
    {
     "name": "stdout",
     "output_type": "stream",
     "text": [
      "Average loss at step 110000: 1.7511928177773952\n"
     ]
    },
    {
     "name": "stdout",
     "output_type": "stream",
     "text": [
      "Average loss at step 112000: 1.7526153866648675\n"
     ]
    },
    {
     "name": "stdout",
     "output_type": "stream",
     "text": [
      "Average loss at step 114000: 1.7454480581879617\n"
     ]
    },
    {
     "name": "stdout",
     "output_type": "stream",
     "text": [
      "Average loss at step 116000: 1.7396684369444848\n"
     ]
    },
    {
     "name": "stdout",
     "output_type": "stream",
     "text": [
      "Average loss at step 118000: 1.739823103249073\n"
     ]
    },
    {
     "name": "stdout",
     "output_type": "stream",
     "text": [
      "Average loss at step 120000: 1.7336634322702884\n"
     ]
    },
    {
     "name": "stdout",
     "output_type": "stream",
     "text": [
      "Average loss at step 122000: 1.738418496400118\n"
     ]
    },
    {
     "name": "stdout",
     "output_type": "stream",
     "text": [
      "Average loss at step 124000: 1.728083903104067\n"
     ]
    },
    {
     "name": "stdout",
     "output_type": "stream",
     "text": [
      "Average loss at step 126000: 1.7267928414046765\n"
     ]
    },
    {
     "name": "stdout",
     "output_type": "stream",
     "text": [
      "Average loss at step 128000: 1.725413534760475\n"
     ]
    },
    {
     "name": "stdout",
     "output_type": "stream",
     "text": [
      "Average loss at step 130000: 1.730572461128235\n"
     ]
    },
    {
     "name": "stdout",
     "output_type": "stream",
     "text": [
      "Average loss at step 132000: 1.7166475401222705\n"
     ]
    },
    {
     "name": "stdout",
     "output_type": "stream",
     "text": [
      "Average loss at step 134000: 1.7128138893842697\n"
     ]
    },
    {
     "name": "stdout",
     "output_type": "stream",
     "text": [
      "Average loss at step 136000: 1.7171573890149594\n"
     ]
    },
    {
     "name": "stdout",
     "output_type": "stream",
     "text": [
      "Average loss at step 138000: 1.7226304724812507\n"
     ]
    },
    {
     "name": "stdout",
     "output_type": "stream",
     "text": [
      "Average loss at step 140000: 1.7026033926010131\n"
     ]
    },
    {
     "name": "stdout",
     "output_type": "stream",
     "text": [
      "Average loss at step 142000: 1.7040381568074225\n"
     ]
    },
    {
     "name": "stdout",
     "output_type": "stream",
     "text": [
      "Average loss at step 144000: 1.7034993809759618\n"
     ]
    },
    {
     "name": "stdout",
     "output_type": "stream",
     "text": [
      "Average loss at step 146000: 1.7103139692842961\n"
     ]
    },
    {
     "name": "stdout",
     "output_type": "stream",
     "text": [
      "Average loss at step 148000: 1.6988333905339241\n"
     ]
    },
    {
     "name": "stdout",
     "output_type": "stream",
     "text": [
      "Average loss at step 150000: 1.702896316498518\n"
     ]
    },
    {
     "name": "stdout",
     "output_type": "stream",
     "text": [
      "Average loss at step 152000: 1.6950737879872322\n"
     ]
    },
    {
     "name": "stdout",
     "output_type": "stream",
     "text": [
      "Average loss at step 154000: 1.6974895277619362\n"
     ]
    },
    {
     "name": "stdout",
     "output_type": "stream",
     "text": [
      "Average loss at step 156000: 1.6924163354039192\n"
     ]
    },
    {
     "name": "stdout",
     "output_type": "stream",
     "text": [
      "Average loss at step 158000: 1.690151217699051\n"
     ]
    },
    {
     "name": "stdout",
     "output_type": "stream",
     "text": [
      "Average loss at step 160000: 1.683552075535059\n"
     ]
    },
    {
     "name": "stdout",
     "output_type": "stream",
     "text": [
      "Average loss at step 162000: 1.689850900143385\n"
     ]
    },
    {
     "name": "stdout",
     "output_type": "stream",
     "text": [
      "Average loss at step 164000: 1.6894034135639668\n"
     ]
    },
    {
     "name": "stdout",
     "output_type": "stream",
     "text": [
      "Average loss at step 166000: 1.6723468350172044\n"
     ]
    },
    {
     "name": "stdout",
     "output_type": "stream",
     "text": [
      "Average loss at step 168000: 1.6723986822962762\n"
     ]
    },
    {
     "name": "stdout",
     "output_type": "stream",
     "text": [
      "Average loss at step 170000: 1.6764006861746312\n"
     ]
    },
    {
     "name": "stdout",
     "output_type": "stream",
     "text": [
      "Average loss at step 172000: 1.6782195061147214\n"
     ]
    },
    {
     "name": "stdout",
     "output_type": "stream",
     "text": [
      "Average loss at step 174000: 1.6755543486773967\n"
     ]
    },
    {
     "name": "stdout",
     "output_type": "stream",
     "text": [
      "Average loss at step 176000: 1.6704335981011391\n"
     ]
    },
    {
     "name": "stdout",
     "output_type": "stream",
     "text": [
      "Average loss at step 178000: 1.675352241754532\n"
     ]
    },
    {
     "name": "stdout",
     "output_type": "stream",
     "text": [
      "Average loss at step 180000: 1.6661697600781917\n"
     ]
    },
    {
     "name": "stdout",
     "output_type": "stream",
     "text": [
      "Average loss at step 182000: 1.6723737177848816\n"
     ]
    },
    {
     "name": "stdout",
     "output_type": "stream",
     "text": [
      "Average loss at step 184000: 1.668669999986887\n"
     ]
    },
    {
     "name": "stdout",
     "output_type": "stream",
     "text": [
      "Average loss at step 186000: 1.6560965435504913\n"
     ]
    },
    {
     "name": "stdout",
     "output_type": "stream",
     "text": [
      "Average loss at step 188000: 1.666766212373972\n"
     ]
    },
    {
     "name": "stdout",
     "output_type": "stream",
     "text": [
      "Average loss at step 190000: 1.6729607158303261\n"
     ]
    },
    {
     "name": "stdout",
     "output_type": "stream",
     "text": [
      "Average loss at step 192000: 1.657797158718109\n"
     ]
    },
    {
     "name": "stdout",
     "output_type": "stream",
     "text": [
      "Average loss at step 194000: 1.652037577956915\n"
     ]
    },
    {
     "name": "stdout",
     "output_type": "stream",
     "text": [
      "Average loss at step 196000: 1.6605301826894283\n"
     ]
    },
    {
     "name": "stdout",
     "output_type": "stream",
     "text": [
      "Average loss at step 198000: 1.6585210522413254\n"
     ]
    },
    {
     "name": "stdout",
     "output_type": "stream",
     "text": [
      "Average loss at step 200000: 1.6492724190056325\n"
     ]
    },
    {
     "name": "stdout",
     "output_type": "stream",
     "text": [
      "Average loss at step 202000: 1.6503011218309402\n"
     ]
    },
    {
     "name": "stdout",
     "output_type": "stream",
     "text": [
      "Average loss at step 204000: 1.6537356365025044\n"
     ]
    },
    {
     "name": "stdout",
     "output_type": "stream",
     "text": [
      "Average loss at step 206000: 1.6479172430336475\n"
     ]
    },
    {
     "name": "stdout",
     "output_type": "stream",
     "text": [
      "Average loss at step 208000: 1.6462101038992405\n"
     ]
    },
    {
     "name": "stdout",
     "output_type": "stream",
     "text": [
      "Average loss at step 210000: 1.6495471616983415\n"
     ]
    },
    {
     "name": "stdout",
     "output_type": "stream",
     "text": [
      "Average loss at step 212000: 1.6370274174213408\n"
     ]
    },
    {
     "name": "stdout",
     "output_type": "stream",
     "text": [
      "Average loss at step 214000: 1.6479581637382508\n"
     ]
    },
    {
     "name": "stdout",
     "output_type": "stream",
     "text": [
      "Average loss at step 216000: 1.64691782400012\n"
     ]
    },
    {
     "name": "stdout",
     "output_type": "stream",
     "text": [
      "Average loss at step 218000: 1.6418322061896324\n"
     ]
    },
    {
     "name": "stdout",
     "output_type": "stream",
     "text": [
      "Average loss at step 220000: 1.634375947624445\n"
     ]
    },
    {
     "name": "stdout",
     "output_type": "stream",
     "text": [
      "Average loss at step 222000: 1.6405540661215783\n"
     ]
    },
    {
     "name": "stdout",
     "output_type": "stream",
     "text": [
      "Average loss at step 224000: 1.644932420939207\n"
     ]
    },
    {
     "name": "stdout",
     "output_type": "stream",
     "text": [
      "Average loss at step 226000: 1.6288065087497234\n"
     ]
    },
    {
     "name": "stdout",
     "output_type": "stream",
     "text": [
      "Average loss at step 228000: 1.6317754665613173\n"
     ]
    },
    {
     "name": "stdout",
     "output_type": "stream",
     "text": [
      "Average loss at step 230000: 1.6364501780867577\n"
     ]
    },
    {
     "name": "stdout",
     "output_type": "stream",
     "text": [
      "Average loss at step 232000: 1.6382858665883542\n"
     ]
    },
    {
     "name": "stdout",
     "output_type": "stream",
     "text": [
      "Average loss at step 234000: 1.6345922796428203\n"
     ]
    },
    {
     "name": "stdout",
     "output_type": "stream",
     "text": [
      "Average loss at step 236000: 1.6308129909038545\n"
     ]
    },
    {
     "name": "stdout",
     "output_type": "stream",
     "text": [
      "Average loss at step 238000: 1.632046899139881\n"
     ]
    },
    {
     "name": "stdout",
     "output_type": "stream",
     "text": [
      "Average loss at step 240000: 1.6303078175783157\n"
     ]
    },
    {
     "name": "stdout",
     "output_type": "stream",
     "text": [
      "Average loss at step 242000: 1.6328290157020091\n"
     ]
    },
    {
     "name": "stdout",
     "output_type": "stream",
     "text": [
      "Average loss at step 244000: 1.6283117328882217\n"
     ]
    },
    {
     "name": "stdout",
     "output_type": "stream",
     "text": [
      "Average loss at step 246000: 1.6259562635719775\n"
     ]
    },
    {
     "name": "stdout",
     "output_type": "stream",
     "text": [
      "Average loss at step 248000: 1.6258291047811508\n"
     ]
    },
    {
     "name": "stdout",
     "output_type": "stream",
     "text": [
      "Average loss at step 250000: 1.629213720947504\n"
     ]
    },
    {
     "name": "stdout",
     "output_type": "stream",
     "text": [
      "Average loss at step 252000: 1.6211736667454242\n"
     ]
    },
    {
     "name": "stdout",
     "output_type": "stream",
     "text": [
      "Average loss at step 254000: 1.616482340991497\n"
     ]
    },
    {
     "name": "stdout",
     "output_type": "stream",
     "text": [
      "Average loss at step 256000: 1.624812997430563\n"
     ]
    },
    {
     "name": "stdout",
     "output_type": "stream",
     "text": [
      "Finished.\n"
     ]
    }
   ],
   "source": [
    "batches_count_epoch = len(input_words) // batch_size\n",
    "num_steps = 30 * batches_count_epoch\n",
    "\n",
    "with tf.Session(config=tf.ConfigProto(allow_soft_placement=True, log_device_placement=True)) as session:\n",
    "    # Initialize the variables in the graph\n",
    "    tf.global_variables_initializer().run()\n",
    "    print('Initialized')\n",
    "    average_loss = 0\n",
    "\n",
    "    # Train the Word2vec model for num_step iterations\n",
    "    for step in range(num_steps):\n",
    "\n",
    "        # Generate a single batch of data\n",
    "        batch_data, batch_labels = generate_batch_skipgram(batch_size)\n",
    "\n",
    "        # feed_dict, optimizer, loss\n",
    "        feed_dict = {train_dataset: batch_data, train_labels: batch_labels}\n",
    "        _, l = session.run([optimizer, loss], feed_dict=feed_dict)\n",
    "\n",
    "        average_loss += l\n",
    "        if (step + 1) % 2000 == 0:\n",
    "            if step > 0:\n",
    "                average_loss = average_loss / 2000\n",
    "            print('Average loss at step {}: {}'.format(step + 1, average_loss))\n",
    "            average_loss = 0\n",
    "\n",
    "    skip_gram_final_embeddings = normalized_embeddings.eval()\n",
    "\n",
    "np.save('./solution/skipgram_embeddings.npy', skip_gram_final_embeddings)\n",
    "\n",
    "print('Finished.')\n"
   ]
  },
  {
   "cell_type": "code",
   "execution_count": 13,
   "metadata": {},
   "outputs": [
    {
     "name": "stdout",
     "output_type": "stream",
     "text": [
      "(13200, 128)\n"
     ]
    }
   ],
   "source": [
    "final_embeddings = np.load('./solution/skipgram_embeddings.npy')\n",
    "type(final_embeddings)\n",
    "print(final_embeddings.shape)"
   ]
  },
  {
   "cell_type": "code",
   "execution_count": 14,
   "metadata": {},
   "outputs": [
    {
     "name": "stdout",
     "output_type": "stream",
     "text": [
      "bedroom deliver 1.0395112335681915\nbedroom bed 0.7726712226867676\nbathroom bedroom 0.7043295502662659\nremove 5 1.1147050336003304\n"
     ]
    },
    {
     "data": {
      "text/plain": [
       "1.4418815"
      ]
     },
     "execution_count": 14,
     "metadata": {},
     "output_type": "execute_result"
    }
   ],
   "source": [
    "import scipy\n",
    "\n",
    "print(reverse_dictionary[1], reverse_dictionary[9],\n",
    "      scipy.spatial.distance.cosine(final_embeddings[1], final_embeddings[9]))\n",
    "print(reverse_dictionary[1], reverse_dictionary[12],\n",
    "      scipy.spatial.distance.cosine(final_embeddings[1], final_embeddings[12]))\n",
    "print(reverse_dictionary[3], reverse_dictionary[1],\n",
    "      scipy.spatial.distance.cosine(final_embeddings[3], final_embeddings[1]))\n",
    "print(reverse_dictionary[22], reverse_dictionary[38],\n",
    "      scipy.spatial.distance.cosine(final_embeddings[22], final_embeddings[38]))\n",
    "\n",
    "np.sqrt(\n",
    "    np.sum(\n",
    "        np.square(\n",
    "            final_embeddings[1] - final_embeddings[9])))\n"
   ]
  },
  {
   "cell_type": "code",
   "execution_count": 15,
   "metadata": {},
   "outputs": [
    {
     "name": "stdout",
     "output_type": "stream",
     "text": [
      "0 0.0 Fix my Door 90.0\n1 0.0 Website update 27.0\n2 3.0 Clean my 2 bedroom / 2 bathroom house 75.0\n3 0.0 Pick up from Dan Murphy deliver to Cranebrook 25.0\n4 0.0 Move a small fridge from Glebe to Drummoyne 60.0\n5 0.0 Instal sliders for 4 drawers 120.0\n6 0.0 Moving couches 59.0\n7 0.0 Butler for a day! 150.0\n8 0.0 Research the 200 largest schools in the UK 20.0\n9 0.0 Weeding and general maintenance 50.0\n10 0.0 Electrical work in small bathroom 400.0\n11 6.0 SPRING CLEAN REQ. THIS SATURDAY MORNING (1st Oct) 198.0\n12 0.0 Deliver bed & a few boxes 275.0\n13 0.0 Small moving job this Sunday, 500m down the street 77.0\n14 0.0 Clean and Organize Today 75.0\n15 0.0 Website maintenance 150.0\n16 0.0 Labouring landscaping 5.0\n17 0.0 Backyard needs good work 60.0\n18 0.0 End of lease clean I bed unit. Steam clean 2 rooms 200.0\n19 3.0 Babysitting, baby is going to be asleep. 45.0\n20 0.0 Pick up a 610L I bought on Gumtree 85.0\n"
     ]
    }
   ],
   "source": [
    "for index, row in raw_data.iterrows():\n",
    "    if index > 20: break\n",
    "    print('{} {} {} {}'.format(index, row['estimated_hours'], row['name'], row['price']))\n"
   ]
  },
  {
   "cell_type": "markdown",
   "metadata": {},
   "source": [
    "## Computing Document Embeddings for all Tasks"
   ]
  },
  {
   "cell_type": "code",
   "execution_count": 16,
   "metadata": {
    "collapsed": false
   },
   "outputs": [
    {
     "name": "stdout",
     "output_type": "stream",
     "text": [
      "(101270, 128)\n['#', 32, 31, '#', 37, 294, '#', 0, 2, 1, 2, 3, 5, '#', 7, 4809, 4810, 9, 4244, '#', 10, 17, 33, 600, 1243, '#', 907, 3498, 19, 160]\nassemble mowing\n"
     ]
    },
    {
     "name": "stdout",
     "output_type": "stream",
     "text": [
      "Finished.\n"
     ]
    }
   ],
   "source": [
    "# Return the doc embedding from the list of word tokens\n",
    "def get_doc_embedding(tokenid_list):\n",
    "    word_embedding_list = [final_embeddings[tokenid] for tokenid in tokenid_list]\n",
    "    # if len(tokenid_list) < 1:\n",
    "    #     print(tokenid_list)\n",
    "    return np.sum(word_embedding_list, axis=0) / len(tokenid_list)\n",
    "\n",
    "# print(get_doc_embedding([27, 28]))\n",
    "\n",
    "doc_embeddings = np.zeros(shape=(raw_data.shape[0], embedding_size), dtype=np.float32)\n",
    "\n",
    "print(doc_embeddings.shape)\n",
    "print(data[:30])\n",
    "print(reverse_dictionary[28], reverse_dictionary[27])\n",
    "\n",
    "hash_doc_begin = 0\n",
    "doc_index = 0\n",
    "for data_index in range(len(data)):\n",
    "    if data_index > 0 and data[data_index] == '#':\n",
    "        doc_tokenids = data[hash_doc_begin + 1:data_index]\n",
    "        if len(doc_tokenids) == 0:\n",
    "            print(raw_data.iloc[doc_index])\n",
    "        doc_embeddings[doc_index] = get_doc_embedding(doc_tokenids)\n",
    "        # print('{} {}'.format(doc_index, [reverse_dictionary[tokenid] for tokenid in doc_tokenids]))\n",
    "        # if doc_index > 101260: \n",
    "        #     print(doc_index, data[data_index:])\n",
    "        # if doc_embeddings[doc_index][0] == 0.0: \n",
    "        #     print('0---{}'.format(data_index))\n",
    "        #     break\n",
    "        hash_doc_begin = data_index\n",
    "        doc_index += 1\n",
    "    # if data_index > 50: break\n",
    "doc_embeddings[doc_index] = get_doc_embedding(data[hash_doc_begin + 1:])  #Compute the last doc embedding\n",
    "print('Finished.')\n"
   ]
  },
  {
   "cell_type": "code",
   "execution_count": 17,
   "metadata": {
    "collapsed": false
   },
   "outputs": [
    {
     "name": "stdout",
     "output_type": "stream",
     "text": [
      "estimated_hours                                        3\nname               Clean my 2 bedroom / 2 bathroom house\nprice                                                 75\nName: 2, dtype: object\nestimated_hours                                         2\nname               Clean my 3 bedroom / 2 bathroom house.\nprice                                                  66\nName: 43, dtype: object\n0.03222846984863281\n0.15804754\n\nestimated_hours                                       1.5\nname               Clean my 2 bedroom / 1 bathroom house.\nprice                                                  45\nName: 339, dtype: object\nestimated_hours                                           0\nname               Clean a 2 bedroom / 2 bathroom apartment\nprice                                                   150\nName: 342, dtype: object\n0.04919201135635376\n\nestimated_hours                                                0\nname               Pick up from Dan Murphy deliver to Cranebrook\nprice                                                         25\nName: 3, dtype: object\nestimated_hours                                         0\nname               Need help to move fridge 10 minute job\nprice                                                  38\nName: 51, dtype: object\n0.964911911636591\n"
     ]
    }
   ],
   "source": [
    "print(raw_data.iloc[2])\n",
    "print(raw_data.iloc[43])\n",
    "print(scipy.spatial.distance.cosine(doc_embeddings[2], doc_embeddings[43]))\n",
    "\n",
    "print(np.sqrt(\n",
    "    np.sum(\n",
    "        np.square(\n",
    "            doc_embeddings[2] - doc_embeddings[43]))))\n",
    "print()\n",
    "\n",
    "print(raw_data.iloc[339])\n",
    "print(raw_data.iloc[342])\n",
    "print(scipy.spatial.distance.cosine(doc_embeddings[339], doc_embeddings[342]))\n",
    "print()\n",
    "\n",
    "print(raw_data.iloc[3])\n",
    "print(raw_data.iloc[51])\n",
    "print(scipy.spatial.distance.cosine(doc_embeddings[3], doc_embeddings[51]))"
   ]
  },
  {
   "cell_type": "code",
   "execution_count": 18,
   "metadata": {},
   "outputs": [
    {
     "name": "stdout",
     "output_type": "stream",
     "text": [
      "(101270, 128)\n101270\n(101270,)\n"
     ]
    }
   ],
   "source": [
    "print(doc_embeddings.shape)\n",
    "print(len(doc_embeddings))\n",
    "print(raw_data['price'].shape)\n",
    "\n"
   ]
  },
  {
   "cell_type": "code",
   "execution_count": 19,
   "metadata": {},
   "outputs": [
    {
     "data": {
      "text/plain": [
       "array([[-0.06409685,  0.08000293, -0.15928508, ...,  0.11816533,\n        -0.01165516,  0.00474428],\n       [ 0.10474539,  0.00202719, -0.0396238 , ..., -0.04258889,\n         0.12146854,  0.01441823],\n       [-0.02356999, -0.02626543, -0.0307508 , ...,  0.00987779,\n        -0.00266036, -0.03197163],\n       ...,\n       [-0.01709448, -0.02435581,  0.06297789, ..., -0.0282658 ,\n         0.02511983,  0.07644909],\n       [ 0.01835867,  0.02124411, -0.15139133, ...,  0.06580564,\n         0.0174734 , -0.01030229],\n       [ 0.07851901,  0.03554084,  0.00667743, ..., -0.04020947,\n        -0.03790389,  0.00167024]], dtype=float32)"
      ]
     },
     "execution_count": 19,
     "metadata": {},
     "output_type": "execute_result"
    }
   ],
   "source": [
    "doc_embeddings"
   ]
  },
  {
   "cell_type": "markdown",
   "metadata": {},
   "source": [
    "## Filling missing values in the first column using KNN"
   ]
  },
  {
   "cell_type": "code",
   "execution_count": 20,
   "metadata": {},
   "outputs": [
    {
     "name": "stdout",
     "output_type": "stream",
     "text": [
      "(22747, 128) (22747,)\n(78523, 128)\n"
     ]
    }
   ],
   "source": [
    "raw_data_full = raw_data[raw_data['estimated_hours'] != 0.0]\n",
    "raw_data_nan = raw_data[raw_data['estimated_hours'] == 0.0]\n",
    "# print(raw_data_full.index)\n",
    "knn_X_train = doc_embeddings[raw_data_full.index]\n",
    "knn_y_train = raw_data_full['estimated_hours'].values\n",
    "print(knn_X_train.shape, knn_y_train.shape)\n",
    "\n",
    "knn_X_pred = doc_embeddings[raw_data_nan.index]\n",
    "print(knn_X_pred.shape)"
   ]
  },
  {
   "cell_type": "code",
   "execution_count": 21,
   "metadata": {},
   "outputs": [
    {
     "data": {
      "text/html": [
       "<div>\n",
       "<style scoped>\n",
       "    .dataframe tbody tr th:only-of-type {\n",
       "        vertical-align: middle;\n",
       "    }\n",
       "\n",
       "    .dataframe tbody tr th {\n",
       "        vertical-align: top;\n",
       "    }\n",
       "\n",
       "    .dataframe thead th {\n",
       "        text-align: right;\n",
       "    }\n",
       "</style>\n",
       "<table border=\"1\" class=\"dataframe\">\n",
       "  <thead>\n",
       "    <tr style=\"text-align: right;\">\n",
       "      <th></th>\n",
       "      <th>estimated_hours</th>\n",
       "      <th>name</th>\n",
       "      <th>price</th>\n",
       "    </tr>\n",
       "  </thead>\n",
       "  <tbody>\n",
       "    <tr>\n",
       "      <th>2</th>\n",
       "      <td>3.0</td>\n",
       "      <td>Clean my 2 bedroom / 2 bathroom house</td>\n",
       "      <td>75.0</td>\n",
       "    </tr>\n",
       "    <tr>\n",
       "      <th>11</th>\n",
       "      <td>6.0</td>\n",
       "      <td>SPRING CLEAN REQ. THIS SATURDAY MORNING (1st Oct)</td>\n",
       "      <td>198.0</td>\n",
       "    </tr>\n",
       "    <tr>\n",
       "      <th>19</th>\n",
       "      <td>3.0</td>\n",
       "      <td>Babysitting, baby is going to be asleep.</td>\n",
       "      <td>45.0</td>\n",
       "    </tr>\n",
       "    <tr>\n",
       "      <th>23</th>\n",
       "      <td>5.0</td>\n",
       "      <td>Paint my back fence</td>\n",
       "      <td>177.0</td>\n",
       "    </tr>\n",
       "    <tr>\n",
       "      <th>28</th>\n",
       "      <td>1.0</td>\n",
       "      <td>Lawn mowing - small area</td>\n",
       "      <td>25.0</td>\n",
       "    </tr>\n",
       "  </tbody>\n",
       "</table>\n",
       "</div>"
      ],
      "text/plain": [
       "<div>\n",
       "<style scoped>\n",
       "    .dataframe tbody tr th:only-of-type {\n",
       "        vertical-align: middle;\n",
       "    }\n",
       "\n",
       "    .dataframe tbody tr th {\n",
       "        vertical-align: top;\n",
       "    }\n",
       "\n",
       "    .dataframe thead th {\n",
       "        text-align: right;\n",
       "    }\n",
       "</style>\n",
       "<table border=\"1\" class=\"dataframe\">\n",
       "  <thead>\n",
       "    <tr style=\"text-align: right;\">\n",
       "      <th></th>\n",
       "      <th>estimated_hours</th>\n",
       "      <th>name</th>\n",
       "      <th>price</th>\n",
       "    </tr>\n",
       "  </thead>\n",
       "  <tbody>\n",
       "    <tr>\n",
       "      <th>2</th>\n",
       "      <td>3.0</td>\n",
       "      <td>Clean my 2 bedroom / 2 bathroom house</td>\n",
       "      <td>75.0</td>\n",
       "    </tr>\n",
       "    <tr>\n",
       "      <th>11</th>\n",
       "      <td>6.0</td>\n",
       "      <td>SPRING CLEAN REQ. THIS SATURDAY MORNING (1st Oct)</td>\n",
       "      <td>198.0</td>\n",
       "    </tr>\n",
       "    <tr>\n",
       "      <th>19</th>\n",
       "      <td>3.0</td>\n",
       "      <td>Babysitting, baby is going to be asleep.</td>\n",
       "      <td>45.0</td>\n",
       "    </tr>\n",
       "    <tr>\n",
       "      <th>23</th>\n",
       "      <td>5.0</td>\n",
       "      <td>Paint my back fence</td>\n",
       "      <td>177.0</td>\n",
       "    </tr>\n",
       "    <tr>\n",
       "      <th>28</th>\n",
       "      <td>1.0</td>\n",
       "      <td>Lawn mowing - small area</td>\n",
       "      <td>25.0</td>\n",
       "    </tr>\n",
       "  </tbody>\n",
       "</table>\n",
       "</div>"
      ]
     },
     "execution_count": 21,
     "metadata": {},
     "output_type": "execute_result"
    }
   ],
   "source": [
    "raw_data_full.head()"
   ]
  },
  {
   "cell_type": "code",
   "execution_count": 22,
   "metadata": {},
   "outputs": [
    {
     "data": {
      "text/html": [
       "<div>\n",
       "<style scoped>\n",
       "    .dataframe tbody tr th:only-of-type {\n",
       "        vertical-align: middle;\n",
       "    }\n",
       "\n",
       "    .dataframe tbody tr th {\n",
       "        vertical-align: top;\n",
       "    }\n",
       "\n",
       "    .dataframe thead th {\n",
       "        text-align: right;\n",
       "    }\n",
       "</style>\n",
       "<table border=\"1\" class=\"dataframe\">\n",
       "  <thead>\n",
       "    <tr style=\"text-align: right;\">\n",
       "      <th></th>\n",
       "      <th>estimated_hours</th>\n",
       "      <th>name</th>\n",
       "      <th>price</th>\n",
       "    </tr>\n",
       "  </thead>\n",
       "  <tbody>\n",
       "    <tr>\n",
       "      <th>0</th>\n",
       "      <td>0.0</td>\n",
       "      <td>Fix my Door</td>\n",
       "      <td>90.0</td>\n",
       "    </tr>\n",
       "    <tr>\n",
       "      <th>1</th>\n",
       "      <td>0.0</td>\n",
       "      <td>Website update</td>\n",
       "      <td>27.0</td>\n",
       "    </tr>\n",
       "    <tr>\n",
       "      <th>3</th>\n",
       "      <td>0.0</td>\n",
       "      <td>Pick up from Dan Murphy deliver to Cranebrook</td>\n",
       "      <td>25.0</td>\n",
       "    </tr>\n",
       "    <tr>\n",
       "      <th>4</th>\n",
       "      <td>0.0</td>\n",
       "      <td>Move a small fridge from Glebe to Drummoyne</td>\n",
       "      <td>60.0</td>\n",
       "    </tr>\n",
       "    <tr>\n",
       "      <th>5</th>\n",
       "      <td>0.0</td>\n",
       "      <td>Instal sliders for 4 drawers</td>\n",
       "      <td>120.0</td>\n",
       "    </tr>\n",
       "  </tbody>\n",
       "</table>\n",
       "</div>"
      ],
      "text/plain": [
       "<div>\n",
       "<style scoped>\n",
       "    .dataframe tbody tr th:only-of-type {\n",
       "        vertical-align: middle;\n",
       "    }\n",
       "\n",
       "    .dataframe tbody tr th {\n",
       "        vertical-align: top;\n",
       "    }\n",
       "\n",
       "    .dataframe thead th {\n",
       "        text-align: right;\n",
       "    }\n",
       "</style>\n",
       "<table border=\"1\" class=\"dataframe\">\n",
       "  <thead>\n",
       "    <tr style=\"text-align: right;\">\n",
       "      <th></th>\n",
       "      <th>estimated_hours</th>\n",
       "      <th>name</th>\n",
       "      <th>price</th>\n",
       "    </tr>\n",
       "  </thead>\n",
       "  <tbody>\n",
       "    <tr>\n",
       "      <th>0</th>\n",
       "      <td>0.0</td>\n",
       "      <td>Fix my Door</td>\n",
       "      <td>90.0</td>\n",
       "    </tr>\n",
       "    <tr>\n",
       "      <th>1</th>\n",
       "      <td>0.0</td>\n",
       "      <td>Website update</td>\n",
       "      <td>27.0</td>\n",
       "    </tr>\n",
       "    <tr>\n",
       "      <th>3</th>\n",
       "      <td>0.0</td>\n",
       "      <td>Pick up from Dan Murphy deliver to Cranebrook</td>\n",
       "      <td>25.0</td>\n",
       "    </tr>\n",
       "    <tr>\n",
       "      <th>4</th>\n",
       "      <td>0.0</td>\n",
       "      <td>Move a small fridge from Glebe to Drummoyne</td>\n",
       "      <td>60.0</td>\n",
       "    </tr>\n",
       "    <tr>\n",
       "      <th>5</th>\n",
       "      <td>0.0</td>\n",
       "      <td>Instal sliders for 4 drawers</td>\n",
       "      <td>120.0</td>\n",
       "    </tr>\n",
       "  </tbody>\n",
       "</table>\n",
       "</div>"
      ]
     },
     "execution_count": 22,
     "metadata": {},
     "output_type": "execute_result"
    }
   ],
   "source": [
    "raw_data_nan.head()"
   ]
  },
  {
   "cell_type": "code",
   "execution_count": 25,
   "metadata": {},
   "outputs": [
    {
     "name": "stdout",
     "output_type": "stream",
     "text": [
      "(78523,)\n"
     ]
    }
   ],
   "source": [
    "from sklearn.neighbors import KNeighborsRegressor\n",
    "\n",
    "knn = KNeighborsRegressor(n_neighbors=5, weights='distance', p=2, n_jobs=8)\n",
    "knn.fit(knn_X_train, knn_y_train)\n",
    "knn_y_pred = knn.predict(knn_X_pred)\n",
    "# print(knn_y_pred.shape)\n",
    "# print(knn_y_pred)"
   ]
  },
  {
   "cell_type": "code",
   "execution_count": 27,
   "metadata": {},
   "outputs": [],
   "source": [
    "raw_data.iloc[raw_data_nan.index, 0] =  knn_y_pred"
   ]
  },
  {
   "cell_type": "code",
   "execution_count": 28,
   "metadata": {},
   "outputs": [
    {
     "data": {
      "text/html": [
       "<div>\n",
       "<style scoped>\n",
       "    .dataframe tbody tr th:only-of-type {\n",
       "        vertical-align: middle;\n",
       "    }\n",
       "\n",
       "    .dataframe tbody tr th {\n",
       "        vertical-align: top;\n",
       "    }\n",
       "\n",
       "    .dataframe thead th {\n",
       "        text-align: right;\n",
       "    }\n",
       "</style>\n",
       "<table border=\"1\" class=\"dataframe\">\n",
       "  <thead>\n",
       "    <tr style=\"text-align: right;\">\n",
       "      <th></th>\n",
       "      <th>estimated_hours</th>\n",
       "      <th>name</th>\n",
       "      <th>price</th>\n",
       "    </tr>\n",
       "  </thead>\n",
       "  <tbody>\n",
       "    <tr>\n",
       "      <th>0</th>\n",
       "      <td>1.387571</td>\n",
       "      <td>Fix my Door</td>\n",
       "      <td>90.0</td>\n",
       "    </tr>\n",
       "    <tr>\n",
       "      <th>1</th>\n",
       "      <td>5.500000</td>\n",
       "      <td>Website update</td>\n",
       "      <td>27.0</td>\n",
       "    </tr>\n",
       "    <tr>\n",
       "      <th>2</th>\n",
       "      <td>3.000000</td>\n",
       "      <td>Clean my 2 bedroom / 2 bathroom house</td>\n",
       "      <td>75.0</td>\n",
       "    </tr>\n",
       "    <tr>\n",
       "      <th>3</th>\n",
       "      <td>1.912502</td>\n",
       "      <td>Pick up from Dan Murphy deliver to Cranebrook</td>\n",
       "      <td>25.0</td>\n",
       "    </tr>\n",
       "    <tr>\n",
       "      <th>4</th>\n",
       "      <td>1.477901</td>\n",
       "      <td>Move a small fridge from Glebe to Drummoyne</td>\n",
       "      <td>60.0</td>\n",
       "    </tr>\n",
       "    <tr>\n",
       "      <th>5</th>\n",
       "      <td>5.606562</td>\n",
       "      <td>Instal sliders for 4 drawers</td>\n",
       "      <td>120.0</td>\n",
       "    </tr>\n",
       "    <tr>\n",
       "      <th>6</th>\n",
       "      <td>2.000000</td>\n",
       "      <td>Moving couches</td>\n",
       "      <td>59.0</td>\n",
       "    </tr>\n",
       "    <tr>\n",
       "      <th>7</th>\n",
       "      <td>7.199407</td>\n",
       "      <td>Butler for a day!</td>\n",
       "      <td>150.0</td>\n",
       "    </tr>\n",
       "    <tr>\n",
       "      <th>8</th>\n",
       "      <td>4.357737</td>\n",
       "      <td>Research the 200 largest schools in the UK</td>\n",
       "      <td>20.0</td>\n",
       "    </tr>\n",
       "    <tr>\n",
       "      <th>9</th>\n",
       "      <td>2.000001</td>\n",
       "      <td>Weeding and general maintenance</td>\n",
       "      <td>50.0</td>\n",
       "    </tr>\n",
       "  </tbody>\n",
       "</table>\n",
       "</div>"
      ],
      "text/plain": [
       "<div>\n",
       "<style scoped>\n",
       "    .dataframe tbody tr th:only-of-type {\n",
       "        vertical-align: middle;\n",
       "    }\n",
       "\n",
       "    .dataframe tbody tr th {\n",
       "        vertical-align: top;\n",
       "    }\n",
       "\n",
       "    .dataframe thead th {\n",
       "        text-align: right;\n",
       "    }\n",
       "</style>\n",
       "<table border=\"1\" class=\"dataframe\">\n",
       "  <thead>\n",
       "    <tr style=\"text-align: right;\">\n",
       "      <th></th>\n",
       "      <th>estimated_hours</th>\n",
       "      <th>name</th>\n",
       "      <th>price</th>\n",
       "    </tr>\n",
       "  </thead>\n",
       "  <tbody>\n",
       "    <tr>\n",
       "      <th>0</th>\n",
       "      <td>1.387571</td>\n",
       "      <td>Fix my Door</td>\n",
       "      <td>90.0</td>\n",
       "    </tr>\n",
       "    <tr>\n",
       "      <th>1</th>\n",
       "      <td>5.500000</td>\n",
       "      <td>Website update</td>\n",
       "      <td>27.0</td>\n",
       "    </tr>\n",
       "    <tr>\n",
       "      <th>2</th>\n",
       "      <td>3.000000</td>\n",
       "      <td>Clean my 2 bedroom / 2 bathroom house</td>\n",
       "      <td>75.0</td>\n",
       "    </tr>\n",
       "    <tr>\n",
       "      <th>3</th>\n",
       "      <td>1.912502</td>\n",
       "      <td>Pick up from Dan Murphy deliver to Cranebrook</td>\n",
       "      <td>25.0</td>\n",
       "    </tr>\n",
       "    <tr>\n",
       "      <th>4</th>\n",
       "      <td>1.477901</td>\n",
       "      <td>Move a small fridge from Glebe to Drummoyne</td>\n",
       "      <td>60.0</td>\n",
       "    </tr>\n",
       "    <tr>\n",
       "      <th>5</th>\n",
       "      <td>5.606562</td>\n",
       "      <td>Instal sliders for 4 drawers</td>\n",
       "      <td>120.0</td>\n",
       "    </tr>\n",
       "    <tr>\n",
       "      <th>6</th>\n",
       "      <td>2.000000</td>\n",
       "      <td>Moving couches</td>\n",
       "      <td>59.0</td>\n",
       "    </tr>\n",
       "    <tr>\n",
       "      <th>7</th>\n",
       "      <td>7.199407</td>\n",
       "      <td>Butler for a day!</td>\n",
       "      <td>150.0</td>\n",
       "    </tr>\n",
       "    <tr>\n",
       "      <th>8</th>\n",
       "      <td>4.357737</td>\n",
       "      <td>Research the 200 largest schools in the UK</td>\n",
       "      <td>20.0</td>\n",
       "    </tr>\n",
       "    <tr>\n",
       "      <th>9</th>\n",
       "      <td>2.000001</td>\n",
       "      <td>Weeding and general maintenance</td>\n",
       "      <td>50.0</td>\n",
       "    </tr>\n",
       "  </tbody>\n",
       "</table>\n",
       "</div>"
      ]
     },
     "execution_count": 28,
     "metadata": {},
     "output_type": "execute_result"
    }
   ],
   "source": [
    "raw_data.head(10)"
   ]
  },
  {
   "cell_type": "code",
   "execution_count": 29,
   "metadata": {},
   "outputs": [
    {
     "data": {
      "image/png": "[encoded data removed]",
      "text/plain": [
       "<matplotlib.figure.Figure at 0x7f5e572ea630>"
      ]
     },
     "metadata": {},
     "output_type": "display_data"
    }
   ],
   "source": [
    "sns.distplot(raw_data['estimated_hours'], kde=True)\n",
    "plt.show()"
   ]
  },
  {
   "cell_type": "markdown",
   "metadata": {},
   "source": [
    "## Preparing Data for Regression"
   ]
  },
  {
   "cell_type": "code",
   "execution_count": 30,
   "metadata": {},
   "outputs": [
    {
     "name": "stdout",
     "output_type": "stream",
     "text": [
      "(101270,)\n[-0.64797476  0.53447385 -0.18435223 ... -0.40048665  0.18221574\n -0.64448395]\n(101270, 1)\n"
     ]
    }
   ],
   "source": [
    "estimated_hours = raw_data['estimated_hours'].values\n",
    "estimated_hours = (estimated_hours - estimated_hours.mean()) / estimated_hours.std()\n",
    "print(estimated_hours.shape)\n",
    "print(estimated_hours)\n",
    "\n",
    "estimated_hours = estimated_hours.reshape([len(raw_data), 1])\n",
    "print(estimated_hours.shape)"
   ]
  },
  {
   "cell_type": "code",
   "execution_count": 31,
   "metadata": {},
   "outputs": [],
   "source": [
    "feature_values = np.hstack((estimated_hours,doc_embeddings))\n",
    "target_values = raw_data['price'].values\n",
    "\n",
    "from sklearn.model_selection import train_test_split\n",
    "\n",
    "X_train, X_test, y_train, y_test = train_test_split(feature_values, target_values, test_size=0.3, random_state=1)\n"
   ]
  },
  {
   "cell_type": "code",
   "execution_count": 32,
   "metadata": {},
   "outputs": [
    {
     "name": "stdout",
     "output_type": "stream",
     "text": [
      "(70889, 129)\n(30381, 129)\n(70889,)\n(30381,)\n<class 'numpy.ndarray'>\n70889\n<class 'numpy.ndarray'>\n70889\n"
     ]
    }
   ],
   "source": [
    "print(X_train.shape)\n",
    "print(X_test.shape)\n",
    "print(y_train.shape)\n",
    "print(y_test.shape)\n",
    "print(type(X_train))\n",
    "print(len(X_train))\n",
    "print(type(y_train))\n",
    "print(len(y_train))"
   ]
  },
  {
   "cell_type": "code",
   "execution_count": 33,
   "metadata": {},
   "outputs": [
    {
     "data": {
      "text/plain": [
       "array([ 90.,  27.,  75., ...,  30., 240.,  60.])"
      ]
     },
     "execution_count": 33,
     "metadata": {},
     "output_type": "execute_result"
    }
   ],
   "source": [
    "target_values"
   ]
  },
  {
   "cell_type": "markdown",
   "metadata": {},
   "source": [
    "## Generating training batches"
   ]
  },
  {
   "cell_type": "code",
   "execution_count": 84,
   "metadata": {},
   "outputs": [],
   "source": [
    "doc_pointer_X_train = 0\n",
    "def generate_batch_ffnn(batch_size, feature_size):\n",
    "    global doc_pointer_X_train\n",
    "    batch = np.empty(shape=(batch_size, feature_size), dtype=np.float32)\n",
    "    targets = np.empty(shape=(batch_size, 1), dtype=np.float32)\n",
    "\n",
    "    doc_pointer_batch = 0\n",
    "    while doc_pointer_batch < batch_size:\n",
    "        batch[doc_pointer_batch] = X_train[doc_pointer_X_train]\n",
    "        targets[doc_pointer_batch] = y_train[doc_pointer_X_train]\n",
    "        doc_pointer_batch += 1\n",
    "        doc_pointer_X_train = (doc_pointer_X_train + 1) % len(X_train)\n",
    "    del doc_pointer_batch\n",
    "    return batch, targets\n"
   ]
  },
  {
   "cell_type": "markdown",
   "metadata": {},
   "source": [
    "## Defining the TF Graph for a 3-layer FFNN for Regression"
   ]
  },
  {
   "cell_type": "code",
   "execution_count": 85,
   "metadata": {},
   "outputs": [
    {
     "name": "stdout",
     "output_type": "stream",
     "text": [
      "feature_size=129\n"
     ]
    }
   ],
   "source": [
    "batch_size_doc = 512\n",
    "num_units_layer_1 = 318  #128\n",
    "num_units_layer_2 = 318\n",
    "feature_size = feature_values.shape[1]\n",
    "print('feature_size={}'.format(feature_size))\n",
    "\n",
    "train_input = tf.placeholder(tf.float32, shape=[batch_size_doc, feature_size])\n",
    "train_targets = tf.placeholder(tf.float32, shape=[batch_size_doc, 1])\n",
    "\n",
    "# layer 1 \n",
    "W_1 = tf.Variable(\n",
    "    tf.random_normal(shape=[feature_size, num_units_layer_1], stddev=0.5 / math.sqrt(batch_size_doc),\n",
    "                     dtype=tf.float32))\n",
    "b_1 = tf.Variable(\n",
    "    tf.random_uniform(shape=[num_units_layer_1], minval=-1.0, maxval=1.0, dtype=tf.float32))\n",
    "layer_1 = tf.add(tf.matmul(train_input, W_1), b_1)\n",
    "layer_1 = tf.nn.relu(layer_1)\n",
    "\n",
    "# layer 2\n",
    "W_2 = tf.Variable(\n",
    "    tf.random_normal(shape=[num_units_layer_1, num_units_layer_2], stddev=0.5 / math.sqrt(batch_size_doc),\n",
    "                     dtype=tf.float32))\n",
    "b_2 = tf.Variable(\n",
    "    tf.random_uniform(shape=[num_units_layer_2], minval=-1.0, maxval=1.0, dtype=tf.float32))\n",
    "layer_2 = tf.add(tf.matmul(layer_1, W_2), b_2)\n",
    "layer_2 = tf.nn.relu(layer_2)\n",
    "\n",
    "# Output layer\n",
    "W_O = tf.Variable(\n",
    "    tf.random_normal(shape=[num_units_layer_2, 1], stddev=0.5 / math.sqrt(batch_size_doc),\n",
    "                     dtype=tf.float32))\n",
    "b_O = tf.Variable(\n",
    "    tf.random_uniform(shape=[1], minval=-1.0, maxval=1.0, dtype=tf.float32))\n",
    "train_output = tf.add(tf.matmul(layer_2, W_O), b_O)\n",
    "\n",
    "# Loss\n",
    "loss2 = tf.reduce_mean(tf.square(train_targets - train_output))\n",
    "\n",
    "# Optimizer\n",
    "optimizer2 = tf.train.AdagradOptimizer(1).minimize(loss2)\n",
    "# optimizer2 = tf.train.AdamOptimizer(0.001).minimize(loss2)\n",
    "# optimizer2 = tf.train.GradientDescentOptimizer(0.001).minimize(loss2)\n"
   ]
  },
  {
   "cell_type": "markdown",
   "metadata": {},
   "source": [
    "## Running the FFNN model"
   ]
  },
  {
   "cell_type": "code",
   "execution_count": 86,
   "metadata": {
    "collapsed": false
   },
   "outputs": [
    {
     "name": "stdout",
     "output_type": "stream",
     "text": [
      "batches_count_epoch=138\nnum_steps=13800\n\n"
     ]
    },
    {
     "name": "stdout",
     "output_type": "stream",
     "text": [
      "Initialized\nLoss at step 1: 22579.046875\n"
     ]
    },
    {
     "name": "stdout",
     "output_type": "stream",
     "text": [
      "Loss at step 21: 16295.609375\nLoss at step 41: 16248.4970703125\n"
     ]
    },
    {
     "name": "stdout",
     "output_type": "stream",
     "text": [
      "Loss at step 61: 27196.791015625\nLoss at step 81: 22292.96484375\n"
     ]
    },
    {
     "name": "stdout",
     "output_type": "stream",
     "text": [
      "Loss at step 101: 14345.8330078125\nLoss at step 121: 25822.25\n"
     ]
    },
    {
     "name": "stdout",
     "output_type": "stream",
     "text": [
      "Loss at step 141: 16493.4296875\nLoss at step 161: 16370.80078125\n"
     ]
    },
    {
     "name": "stdout",
     "output_type": "stream",
     "text": [
      "Loss at step 181: 17052.03515625\nLoss at step 201: 21242.984375\n"
     ]
    },
    {
     "name": "stdout",
     "output_type": "stream",
     "text": [
      "Loss at step 221: 23207.365234375\nLoss at step 241: 15272.1875\n"
     ]
    },
    {
     "name": "stdout",
     "output_type": "stream",
     "text": [
      "Loss at step 261: 16345.388671875\nLoss at step 281: 17360.986328125\n"
     ]
    },
    {
     "name": "stdout",
     "output_type": "stream",
     "text": [
      "Loss at step 301: 15263.3974609375\nLoss at step 321: 17423.03515625\n"
     ]
    },
    {
     "name": "stdout",
     "output_type": "stream",
     "text": [
      "Loss at step 341: 19109.857421875\nLoss at step 361: 17872.703125\n"
     ]
    },
    {
     "name": "stdout",
     "output_type": "stream",
     "text": [
      "Loss at step 381: 14450.548828125\nLoss at step 401: 12823.1279296875\n"
     ]
    },
    {
     "name": "stdout",
     "output_type": "stream",
     "text": [
      "Loss at step 421: 16456.716796875\nLoss at step 441: 9867.59375\n"
     ]
    },
    {
     "name": "stdout",
     "output_type": "stream",
     "text": [
      "Loss at step 461: 22036.068359375\nLoss at step 481: 32450.9765625\n"
     ]
    },
    {
     "name": "stdout",
     "output_type": "stream",
     "text": [
      "Loss at step 501: 17019.14453125\nLoss at step 521: 16616.42578125\n"
     ]
    },
    {
     "name": "stdout",
     "output_type": "stream",
     "text": [
      "Loss at step 541: 17118.58203125\nLoss at step 561: 12590.966796875\n"
     ]
    },
    {
     "name": "stdout",
     "output_type": "stream",
     "text": [
      "Loss at step 581: 27653.11328125\nLoss at step 601: 11232.84765625\n"
     ]
    },
    {
     "name": "stdout",
     "output_type": "stream",
     "text": [
      "Loss at step 621: 17581.357421875\nLoss at step 641: 11780.8046875\n"
     ]
    },
    {
     "name": "stdout",
     "output_type": "stream",
     "text": [
      "Loss at step 661: 10577.0625\nLoss at step 681: 14666.8935546875\n"
     ]
    },
    {
     "name": "stdout",
     "output_type": "stream",
     "text": [
      "Loss at step 701: 14070.4765625\nLoss at step 721: 11002.765625\n"
     ]
    },
    {
     "name": "stdout",
     "output_type": "stream",
     "text": [
      "Loss at step 741: 15593.095703125\nLoss at step 761: 10447.357421875\n"
     ]
    },
    {
     "name": "stdout",
     "output_type": "stream",
     "text": [
      "Loss at step 781: 10323.1669921875\nLoss at step 801: 21067.2578125\n"
     ]
    },
    {
     "name": "stdout",
     "output_type": "stream",
     "text": [
      "Loss at step 821: 10580.001953125\nLoss at step 841: 10822.126953125\n"
     ]
    },
    {
     "name": "stdout",
     "output_type": "stream",
     "text": [
      "Loss at step 861: 15706.91796875\nLoss at step 881: 14380.306640625\n"
     ]
    },
    {
     "name": "stdout",
     "output_type": "stream",
     "text": [
      "Loss at step 901: 13349.1376953125\n"
     ]
    },
    {
     "name": "stdout",
     "output_type": "stream",
     "text": [
      "Loss at step 921: 27932.48046875\nLoss at step 941: 16519.626953125\n"
     ]
    },
    {
     "name": "stdout",
     "output_type": "stream",
     "text": [
      "Loss at step 961: 11428.744140625\nLoss at step 981: 12109.158203125\n"
     ]
    },
    {
     "name": "stdout",
     "output_type": "stream",
     "text": [
      "Loss at step 1001: 7739.55517578125\nLoss at step 1021: 22312.4375\n"
     ]
    },
    {
     "name": "stdout",
     "output_type": "stream",
     "text": [
      "Loss at step 1041: 19037.974609375\nLoss at step 1061: 21542.763671875\n"
     ]
    },
    {
     "name": "stdout",
     "output_type": "stream",
     "text": [
      "Loss at step 1081: 12351.931640625\nLoss at step 1101: 15820.341796875\n"
     ]
    },
    {
     "name": "stdout",
     "output_type": "stream",
     "text": [
      "Loss at step 1121: 7663.291015625\nLoss at step 1141: 14642.01171875\n"
     ]
    },
    {
     "name": "stdout",
     "output_type": "stream",
     "text": [
      "Loss at step 1161: 12385.3251953125\nLoss at step 1181: 14838.1533203125\n"
     ]
    },
    {
     "name": "stdout",
     "output_type": "stream",
     "text": [
      "Loss at step 1201: 10426.173828125\nLoss at step 1221: 16194.587890625\n"
     ]
    },
    {
     "name": "stdout",
     "output_type": "stream",
     "text": [
      "Loss at step 1241: 7713.94775390625\nLoss at step 1261: 8526.861328125\n"
     ]
    },
    {
     "name": "stdout",
     "output_type": "stream",
     "text": [
      "Loss at step 1281: 11587.2490234375\nLoss at step 1301: 11491.095703125\n"
     ]
    },
    {
     "name": "stdout",
     "output_type": "stream",
     "text": [
      "Loss at step 1321: 20018.984375\nLoss at step 1341: 26600.28515625\n"
     ]
    },
    {
     "name": "stdout",
     "output_type": "stream",
     "text": [
      "Loss at step 1361: 17692.890625\nLoss at step 1381: 18980.9140625\n"
     ]
    },
    {
     "name": "stdout",
     "output_type": "stream",
     "text": [
      "Loss at step 1401: 8413.474609375\nLoss at step 1421: 9068.3056640625\n"
     ]
    },
    {
     "name": "stdout",
     "output_type": "stream",
     "text": [
      "Loss at step 1441: 10950.9306640625\nLoss at step 1461: 9172.783203125\n"
     ]
    },
    {
     "name": "stdout",
     "output_type": "stream",
     "text": [
      "Loss at step 1481: 15361.6328125\nLoss at step 1501: 17184.232421875\n"
     ]
    },
    {
     "name": "stdout",
     "output_type": "stream",
     "text": [
      "Loss at step 1521: 14829.4609375\nLoss at step 1541: 10693.0654296875\n"
     ]
    },
    {
     "name": "stdout",
     "output_type": "stream",
     "text": [
      "Loss at step 1561: 11616.923828125\nLoss at step 1581: 10037.0341796875\n"
     ]
    },
    {
     "name": "stdout",
     "output_type": "stream",
     "text": [
      "Loss at step 1601: 9080.8603515625\nLoss at step 1621: 25873.263671875\n"
     ]
    },
    {
     "name": "stdout",
     "output_type": "stream",
     "text": [
      "Loss at step 1641: 11852.935546875\nLoss at step 1661: 11505.451171875\n"
     ]
    },
    {
     "name": "stdout",
     "output_type": "stream",
     "text": [
      "Loss at step 1681: 15143.5322265625\nLoss at step 1701: 8433.6669921875\n"
     ]
    },
    {
     "name": "stdout",
     "output_type": "stream",
     "text": [
      "Loss at step 1721: 11881.576171875\nLoss at step 1741: 13325.71484375\n"
     ]
    },
    {
     "name": "stdout",
     "output_type": "stream",
     "text": [
      "Loss at step 1761: 10694.3447265625\nLoss at step 1781: 17114.154296875\n"
     ]
    },
    {
     "name": "stdout",
     "output_type": "stream",
     "text": [
      "Loss at step 1801: 8829.4501953125\nLoss at step 1821: 13012.873046875\n"
     ]
    },
    {
     "name": "stdout",
     "output_type": "stream",
     "text": [
      "Loss at step 1841: 10747.478515625\nLoss at step 1861: 19233.02734375\n"
     ]
    },
    {
     "name": "stdout",
     "output_type": "stream",
     "text": [
      "Loss at step 1881: 16119.255859375\nLoss at step 1901: 7904.19384765625\n"
     ]
    },
    {
     "name": "stdout",
     "output_type": "stream",
     "text": [
      "Loss at step 1921: 15741.390625\nLoss at step 1941: 12819.923828125\n"
     ]
    },
    {
     "name": "stdout",
     "output_type": "stream",
     "text": [
      "Loss at step 1961: 14668.3876953125\nLoss at step 1981: 12759.39453125\n"
     ]
    },
    {
     "name": "stdout",
     "output_type": "stream",
     "text": [
      "Loss at step 2001: 15640.765625\nLoss at step 2021: 24852.244140625\n"
     ]
    },
    {
     "name": "stdout",
     "output_type": "stream",
     "text": [
      "Loss at step 2041: 7548.6884765625\nLoss at step 2061: 10677.412109375\n"
     ]
    },
    {
     "name": "stdout",
     "output_type": "stream",
     "text": [
      "Loss at step 2081: 10639.421875\nLoss at step 2101: 10970.291015625\n"
     ]
    },
    {
     "name": "stdout",
     "output_type": "stream",
     "text": [
      "Loss at step 2121: 9812.8427734375\nLoss at step 2141: 12532.060546875\n"
     ]
    },
    {
     "name": "stdout",
     "output_type": "stream",
     "text": [
      "Loss at step 2161: 10953.302734375\nLoss at step 2181: 11381.630859375\n"
     ]
    },
    {
     "name": "stdout",
     "output_type": "stream",
     "text": [
      "Loss at step 2201: 10112.775390625\nLoss at step 2221: 11761.3203125\n"
     ]
    },
    {
     "name": "stdout",
     "output_type": "stream",
     "text": [
      "Loss at step 2241: 7895.9775390625\nLoss at step 2261: 17071.349609375\n"
     ]
    },
    {
     "name": "stdout",
     "output_type": "stream",
     "text": [
      "Loss at step 2281: 21911.80078125\nLoss at step 2301: 12211.0830078125\n"
     ]
    },
    {
     "name": "stdout",
     "output_type": "stream",
     "text": [
      "Loss at step 2321: 12224.7998046875\nLoss at step 2341: 12949.3564453125\n"
     ]
    },
    {
     "name": "stdout",
     "output_type": "stream",
     "text": [
      "Loss at step 2361: 9927.9013671875\nLoss at step 2381: 13440.9375\n"
     ]
    },
    {
     "name": "stdout",
     "output_type": "stream",
     "text": [
      "Loss at step 2401: 7311.3916015625\nLoss at step 2421: 11658.74609375\n"
     ]
    },
    {
     "name": "stdout",
     "output_type": "stream",
     "text": [
      "Loss at step 2441: 10654.8515625\nLoss at step 2461: 7481.619140625\n"
     ]
    },
    {
     "name": "stdout",
     "output_type": "stream",
     "text": [
      "Loss at step 2481: 7966.1591796875\nLoss at step 2501: 11206.3056640625\n"
     ]
    },
    {
     "name": "stdout",
     "output_type": "stream",
     "text": [
      "Loss at step 2521: 8867.6533203125\nLoss at step 2541: 8428.955078125\n"
     ]
    },
    {
     "name": "stdout",
     "output_type": "stream",
     "text": [
      "Loss at step 2561: 8826.208984375\nLoss at step 2581: 9033.8134765625\n"
     ]
    },
    {
     "name": "stdout",
     "output_type": "stream",
     "text": [
      "Loss at step 2601: 10463.7275390625\nLoss at step 2621: 7087.8779296875\n"
     ]
    },
    {
     "name": "stdout",
     "output_type": "stream",
     "text": [
      "Loss at step 2641: 8190.72802734375\nLoss at step 2661: 10624.521484375\n"
     ]
    },
    {
     "name": "stdout",
     "output_type": "stream",
     "text": [
      "Loss at step 2681: 8221.380859375\nLoss at step 2701: 9224.08203125\n"
     ]
    },
    {
     "name": "stdout",
     "output_type": "stream",
     "text": [
      "Loss at step 2721: 16079.916015625\nLoss at step 2741: 10682.29296875\n"
     ]
    },
    {
     "name": "stdout",
     "output_type": "stream",
     "text": [
      "Loss at step 2761: 12225.7314453125\nLoss at step 2781: 12641.2890625\n"
     ]
    },
    {
     "name": "stdout",
     "output_type": "stream",
     "text": [
      "Loss at step 2801: 7613.69873046875\nLoss at step 2821: 11478.966796875\n"
     ]
    },
    {
     "name": "stdout",
     "output_type": "stream",
     "text": [
      "Loss at step 2841: 13622.5087890625\nLoss at step 2861: 13686.78515625\n"
     ]
    },
    {
     "name": "stdout",
     "output_type": "stream",
     "text": [
      "Loss at step 2881: 11085.283203125\nLoss at step 2901: 12660.30859375\n"
     ]
    },
    {
     "name": "stdout",
     "output_type": "stream",
     "text": [
      "Loss at step 2921: 7449.27294921875\nLoss at step 2941: 10859.21875\n"
     ]
    },
    {
     "name": "stdout",
     "output_type": "stream",
     "text": [
      "Loss at step 2961: 9039.6171875\nLoss at step 2981: 10356.703125\n"
     ]
    },
    {
     "name": "stdout",
     "output_type": "stream",
     "text": [
      "Loss at step 3001: 11448.654296875\nLoss at step 3021: 9567.66015625\n"
     ]
    },
    {
     "name": "stdout",
     "output_type": "stream",
     "text": [
      "Loss at step 3041: 7523.173828125\nLoss at step 3061: 7839.68798828125\n"
     ]
    },
    {
     "name": "stdout",
     "output_type": "stream",
     "text": [
      "Loss at step 3081: 10599.611328125\nLoss at step 3101: 8499.734375\n"
     ]
    },
    {
     "name": "stdout",
     "output_type": "stream",
     "text": [
      "Loss at step 3121: 11762.255859375\nLoss at step 3141: 16270.90625\n"
     ]
    },
    {
     "name": "stdout",
     "output_type": "stream",
     "text": [
      "Loss at step 3161: 14316.0966796875\nLoss at step 3181: 17011.669921875\n"
     ]
    },
    {
     "name": "stdout",
     "output_type": "stream",
     "text": [
      "Loss at step 3201: 8391.697265625\nLoss at step 3221: 7382.49072265625\n"
     ]
    },
    {
     "name": "stdout",
     "output_type": "stream",
     "text": [
      "Loss at step 3241: 14957.572265625\nLoss at step 3261: 7880.4228515625\n"
     ]
    },
    {
     "name": "stdout",
     "output_type": "stream",
     "text": [
      "Loss at step 3281: 16234.296875\nLoss at step 3301: 12001.498046875\n"
     ]
    },
    {
     "name": "stdout",
     "output_type": "stream",
     "text": [
      "Loss at step 3321: 10052.94140625\nLoss at step 3341: 8306.884765625\n"
     ]
    },
    {
     "name": "stdout",
     "output_type": "stream",
     "text": [
      "Loss at step 3361: 9900.654296875\nLoss at step 3381: 8342.884765625\n"
     ]
    },
    {
     "name": "stdout",
     "output_type": "stream",
     "text": [
      "Loss at step 3401: 9476.974609375\nLoss at step 3421: 20523.458984375\n"
     ]
    },
    {
     "name": "stdout",
     "output_type": "stream",
     "text": [
      "Loss at step 3441: 10018.7861328125\nLoss at step 3461: 7927.92529296875\n"
     ]
    },
    {
     "name": "stdout",
     "output_type": "stream",
     "text": [
      "Loss at step 3481: 10493.052734375\nLoss at step 3501: 6466.744140625\n"
     ]
    },
    {
     "name": "stdout",
     "output_type": "stream",
     "text": [
      "Loss at step 3521: 9347.09765625\nLoss at step 3541: 12249.3447265625\n"
     ]
    },
    {
     "name": "stdout",
     "output_type": "stream",
     "text": [
      "Loss at step 3561: 9054.921875\nLoss at step 3581: 14618.2685546875\n"
     ]
    },
    {
     "name": "stdout",
     "output_type": "stream",
     "text": [
      "Loss at step 3601: 5824.87255859375\nLoss at step 3621: 11489.1845703125\n"
     ]
    },
    {
     "name": "stdout",
     "output_type": "stream",
     "text": [
      "Loss at step 3641: 9532.927734375\nLoss at step 3661: 12342.115234375\n"
     ]
    },
    {
     "name": "stdout",
     "output_type": "stream",
     "text": [
      "Loss at step 3681: 14364.998046875\nLoss at step 3701: 5675.32421875\n"
     ]
    },
    {
     "name": "stdout",
     "output_type": "stream",
     "text": [
      "Loss at step 3721: 9753.3017578125\nLoss at step 3741: 10286.14453125\n"
     ]
    },
    {
     "name": "stdout",
     "output_type": "stream",
     "text": [
      "Loss at step 3761: 7189.82080078125\nLoss at step 3781: 8256.357421875\n"
     ]
    },
    {
     "name": "stdout",
     "output_type": "stream",
     "text": [
      "Loss at step 3801: 11789.458984375\nLoss at step 3821: 20295.53515625\n"
     ]
    },
    {
     "name": "stdout",
     "output_type": "stream",
     "text": [
      "Loss at step 3841: 7734.87646484375\nLoss at step 3861: 8109.943359375\n"
     ]
    },
    {
     "name": "stdout",
     "output_type": "stream",
     "text": [
      "Loss at step 3881: 8497.330078125\nLoss at step 3901: 10412.744140625\n"
     ]
    },
    {
     "name": "stdout",
     "output_type": "stream",
     "text": [
      "Loss at step 3921: 8124.5126953125\nLoss at step 3941: 9618.0478515625\n"
     ]
    },
    {
     "name": "stdout",
     "output_type": "stream",
     "text": [
      "Loss at step 3961: 7824.1748046875\nLoss at step 3981: 11857.7099609375\n"
     ]
    },
    {
     "name": "stdout",
     "output_type": "stream",
     "text": [
      "Loss at step 4001: 5843.68310546875\nLoss at step 4021: 9714.767578125\n"
     ]
    },
    {
     "name": "stdout",
     "output_type": "stream",
     "text": [
      "Loss at step 4041: 7118.2041015625\nLoss at step 4061: 11847.93359375\n"
     ]
    },
    {
     "name": "stdout",
     "output_type": "stream",
     "text": [
      "Loss at step 4081: 14106.013671875\nLoss at step 4101: 8090.197265625\n"
     ]
    },
    {
     "name": "stdout",
     "output_type": "stream",
     "text": [
      "Loss at step 4121: 7952.14892578125\nLoss at step 4141: 8243.783203125\n"
     ]
    },
    {
     "name": "stdout",
     "output_type": "stream",
     "text": [
      "Loss at step 4161: 7514.9873046875\nLoss at step 4181: 9947.8740234375\n"
     ]
    },
    {
     "name": "stdout",
     "output_type": "stream",
     "text": [
      "Loss at step 4201: 5994.453125\nLoss at step 4221: 9972.2294921875\n"
     ]
    },
    {
     "name": "stdout",
     "output_type": "stream",
     "text": [
      "Loss at step 4241: 8400.68359375\nLoss at step 4261: 6890.91796875\n"
     ]
    },
    {
     "name": "stdout",
     "output_type": "stream",
     "text": [
      "Loss at step 4281: 6569.45166015625\nLoss at step 4301: 7062.2001953125\n"
     ]
    },
    {
     "name": "stdout",
     "output_type": "stream",
     "text": [
      "Loss at step 4321: 7425.2060546875\nLoss at step 4341: 5985.3046875\n"
     ]
    },
    {
     "name": "stdout",
     "output_type": "stream",
     "text": [
      "Loss at step 4361: 11085.6103515625\nLoss at step 4381: 7144.79345703125\n"
     ]
    },
    {
     "name": "stdout",
     "output_type": "stream",
     "text": [
      "Loss at step 4401: 9477.689453125\nLoss at step 4421: 8314.0234375\n"
     ]
    },
    {
     "name": "stdout",
     "output_type": "stream",
     "text": [
      "Loss at step 4441: 5537.962890625\nLoss at step 4461: 7195.9130859375\n"
     ]
    },
    {
     "name": "stdout",
     "output_type": "stream",
     "text": [
      "Loss at step 4481: 7016.81640625\nLoss at step 4501: 6683.0703125\n"
     ]
    },
    {
     "name": "stdout",
     "output_type": "stream",
     "text": [
      "Loss at step 4521: 12826.4765625\nLoss at step 4541: 7809.0888671875\n"
     ]
    },
    {
     "name": "stdout",
     "output_type": "stream",
     "text": [
      "Loss at step 4561: 9940.0712890625\nLoss at step 4581: 11802.240234375\n"
     ]
    },
    {
     "name": "stdout",
     "output_type": "stream",
     "text": [
      "Loss at step 4601: 6003.09765625\nLoss at step 4621: 7281.60693359375\n"
     ]
    },
    {
     "name": "stdout",
     "output_type": "stream",
     "text": [
      "Loss at step 4641: 12847.2919921875\nLoss at step 4661: 9514.861328125\n"
     ]
    },
    {
     "name": "stdout",
     "output_type": "stream",
     "text": [
      "Loss at step 4681: 9319.005859375\nLoss at step 4701: 9449.05859375\n"
     ]
    },
    {
     "name": "stdout",
     "output_type": "stream",
     "text": [
      "Loss at step 4721: 6303.51318359375\nLoss at step 4741: 7420.65625\n"
     ]
    },
    {
     "name": "stdout",
     "output_type": "stream",
     "text": [
      "Loss at step 4761: 7906.6142578125\nLoss at step 4781: 8555.142578125\n"
     ]
    },
    {
     "name": "stdout",
     "output_type": "stream",
     "text": [
      "Loss at step 4801: 9869.5712890625\nLoss at step 4821: 7283.697265625\n"
     ]
    },
    {
     "name": "stdout",
     "output_type": "stream",
     "text": [
      "Loss at step 4841: 8900.1484375\nLoss at step 4861: 6544.673828125\n"
     ]
    },
    {
     "name": "stdout",
     "output_type": "stream",
     "text": [
      "Loss at step 4881: 10006.53125\nLoss at step 4901: 7270.03857421875\n"
     ]
    },
    {
     "name": "stdout",
     "output_type": "stream",
     "text": [
      "Loss at step 4921: 10091.755859375\nLoss at step 4941: 12613.423828125\n"
     ]
    },
    {
     "name": "stdout",
     "output_type": "stream",
     "text": [
      "Loss at step 4961: 9298.4541015625\nLoss at step 4981: 14380.0283203125\n"
     ]
    },
    {
     "name": "stdout",
     "output_type": "stream",
     "text": [
      "Loss at step 5001: 7507.15234375\nLoss at step 5021: 5115.4521484375\n"
     ]
    },
    {
     "name": "stdout",
     "output_type": "stream",
     "text": [
      "Loss at step 5041: 13207.34765625\nLoss at step 5061: 7759.85107421875\n"
     ]
    },
    {
     "name": "stdout",
     "output_type": "stream",
     "text": [
      "Loss at step 5081: 13121.0107421875\nLoss at step 5101: 9366.4462890625\n"
     ]
    },
    {
     "name": "stdout",
     "output_type": "stream",
     "text": [
      "Loss at step 5121: 9318.2607421875\nLoss at step 5141: 8174.01220703125\n"
     ]
    },
    {
     "name": "stdout",
     "output_type": "stream",
     "text": [
      "Loss at step 5161: 10131.802734375\nLoss at step 5181: 7167.46533203125\n"
     ]
    },
    {
     "name": "stdout",
     "output_type": "stream",
     "text": [
      "Loss at step 5201: 8043.5419921875\nLoss at step 5221: 18029.818359375\n"
     ]
    },
    {
     "name": "stdout",
     "output_type": "stream",
     "text": [
      "Loss at step 5241: 8297.734375\nLoss at step 5261: 7028.13671875\n"
     ]
    },
    {
     "name": "stdout",
     "output_type": "stream",
     "text": [
      "Loss at step 5281: 7910.984375\nLoss at step 5301: 5575.66943359375\n"
     ]
    },
    {
     "name": "stdout",
     "output_type": "stream",
     "text": [
      "Loss at step 5321: 7676.9453125\nLoss at step 5341: 11003.6552734375\n"
     ]
    },
    {
     "name": "stdout",
     "output_type": "stream",
     "text": [
      "Loss at step 5361: 9612.552734375\nLoss at step 5381: 7745.8154296875\n"
     ]
    },
    {
     "name": "stdout",
     "output_type": "stream",
     "text": [
      "Loss at step 5401: 4884.98486328125\nLoss at step 5421: 9429.220703125\n"
     ]
    },
    {
     "name": "stdout",
     "output_type": "stream",
     "text": [
      "Loss at step 5441: 8279.8505859375\nLoss at step 5461: 11889.8330078125\n"
     ]
    },
    {
     "name": "stdout",
     "output_type": "stream",
     "text": [
      "Loss at step 5481: 8671.15625\nLoss at step 5501: 5007.8134765625\n"
     ]
    },
    {
     "name": "stdout",
     "output_type": "stream",
     "text": [
      "Loss at step 5521: 8939.7421875\nLoss at step 5541: 7732.185546875\n"
     ]
    },
    {
     "name": "stdout",
     "output_type": "stream",
     "text": [
      "Loss at step 5561: 5866.4248046875\nLoss at step 5581: 7161.82958984375\n"
     ]
    },
    {
     "name": "stdout",
     "output_type": "stream",
     "text": [
      "Loss at step 5601: 8866.2734375\nLoss at step 5621: 14209.88671875\n"
     ]
    },
    {
     "name": "stdout",
     "output_type": "stream",
     "text": [
      "Loss at step 5641: 7455.35546875\nLoss at step 5661: 6725.2509765625\n"
     ]
    },
    {
     "name": "stdout",
     "output_type": "stream",
     "text": [
      "Loss at step 5681: 8301.13671875\nLoss at step 5701: 8790.84765625\n"
     ]
    },
    {
     "name": "stdout",
     "output_type": "stream",
     "text": [
      "Loss at step 5721: 6172.5908203125\nLoss at step 5741: 8741.9951171875\n"
     ]
    },
    {
     "name": "stdout",
     "output_type": "stream",
     "text": [
      "Loss at step 5761: 7032.69287109375\nLoss at step 5781: 10089.5107421875\n"
     ]
    },
    {
     "name": "stdout",
     "output_type": "stream",
     "text": [
      "Loss at step 5801: 5117.28369140625\nLoss at step 5821: 7416.48583984375\n"
     ]
    },
    {
     "name": "stdout",
     "output_type": "stream",
     "text": [
      "Loss at step 5841: 6941.34130859375\nLoss at step 5861: 9634.2763671875\n"
     ]
    },
    {
     "name": "stdout",
     "output_type": "stream",
     "text": [
      "Loss at step 5881: 9936.36328125\nLoss at step 5901: 6521.96484375\n"
     ]
    },
    {
     "name": "stdout",
     "output_type": "stream",
     "text": [
      "Loss at step 5921: 5255.03515625\nLoss at step 5941: 6830.76220703125\n"
     ]
    },
    {
     "name": "stdout",
     "output_type": "stream",
     "text": [
      "Loss at step 5961: 9594.78125\nLoss at step 5981: 8847.4169921875\n"
     ]
    },
    {
     "name": "stdout",
     "output_type": "stream",
     "text": [
      "Loss at step 6001: 5806.8544921875\nLoss at step 6021: 8276.0009765625\n"
     ]
    },
    {
     "name": "stdout",
     "output_type": "stream",
     "text": [
      "Loss at step 6041: 6911.4267578125\nLoss at step 6061: 7591.91455078125\n"
     ]
    },
    {
     "name": "stdout",
     "output_type": "stream",
     "text": [
      "Loss at step 6081: 5469.16015625\nLoss at step 6101: 6671.853515625\n"
     ]
    },
    {
     "name": "stdout",
     "output_type": "stream",
     "text": [
      "Loss at step 6121: 6284.9873046875\nLoss at step 6141: 5259.2314453125\n"
     ]
    },
    {
     "name": "stdout",
     "output_type": "stream",
     "text": [
      "Loss at step 6161: 10028.345703125\nLoss at step 6181: 7770.94091796875\n"
     ]
    },
    {
     "name": "stdout",
     "output_type": "stream",
     "text": [
      "Loss at step 6201: 7475.9755859375\nLoss at step 6221: 7774.71728515625\n"
     ]
    },
    {
     "name": "stdout",
     "output_type": "stream",
     "text": [
      "Loss at step 6241: 5087.255859375\nLoss at step 6261: 6221.9091796875\n"
     ]
    },
    {
     "name": "stdout",
     "output_type": "stream",
     "text": [
      "Loss at step 6281: 6843.0146484375\nLoss at step 6301: 6394.35400390625\n"
     ]
    },
    {
     "name": "stdout",
     "output_type": "stream",
     "text": [
      "Loss at step 6321: 9562.033203125\nLoss at step 6341: 6073.958984375\n"
     ]
    },
    {
     "name": "stdout",
     "output_type": "stream",
     "text": [
      "Loss at step 6361: 7935.6259765625\nLoss at step 6381: 10417.783203125\n"
     ]
    },
    {
     "name": "stdout",
     "output_type": "stream",
     "text": [
      "Loss at step 6401: 6808.08349609375\nLoss at step 6421: 6990.19677734375\n"
     ]
    },
    {
     "name": "stdout",
     "output_type": "stream",
     "text": [
      "Loss at step 6441: 12009.041015625\nLoss at step 6461: 10240.82421875\n"
     ]
    },
    {
     "name": "stdout",
     "output_type": "stream",
     "text": [
      "Loss at step 6481: 7518.7666015625\nLoss at step 6501: 9027.30859375\n"
     ]
    },
    {
     "name": "stdout",
     "output_type": "stream",
     "text": [
      "Loss at step 6521: 5572.6318359375\nLoss at step 6541: 6416.85498046875\n"
     ]
    },
    {
     "name": "stdout",
     "output_type": "stream",
     "text": [
      "Loss at step 6561: 7144.572265625\nLoss at step 6581: 8403.990234375\n"
     ]
    },
    {
     "name": "stdout",
     "output_type": "stream",
     "text": [
      "Loss at step 6601: 9231.0947265625\nLoss at step 6621: 5608.09716796875\n"
     ]
    },
    {
     "name": "stdout",
     "output_type": "stream",
     "text": [
      "Loss at step 6641: 7909.15673828125\nLoss at step 6661: 6216.0556640625\n"
     ]
    },
    {
     "name": "stdout",
     "output_type": "stream",
     "text": [
      "Loss at step 6681: 7342.9052734375\nLoss at step 6701: 6453.482421875\n"
     ]
    },
    {
     "name": "stdout",
     "output_type": "stream",
     "text": [
      "Loss at step 6721: 8784.419921875\nLoss at step 6741: 11884.48046875\n"
     ]
    },
    {
     "name": "stdout",
     "output_type": "stream",
     "text": [
      "Loss at step 6761: 6654.60107421875\nLoss at step 6781: 11235.140625\n"
     ]
    },
    {
     "name": "stdout",
     "output_type": "stream",
     "text": [
      "Loss at step 6801: 6500.796875\nLoss at step 6821: 4954.779296875\n"
     ]
    },
    {
     "name": "stdout",
     "output_type": "stream",
     "text": [
      "Loss at step 6841: 11848.544921875\nLoss at step 6861: 7269.0576171875\n"
     ]
    },
    {
     "name": "stdout",
     "output_type": "stream",
     "text": [
      "Loss at step 6881: 11543.21484375\nLoss at step 6901: 8292.1083984375\n"
     ]
    },
    {
     "name": "stdout",
     "output_type": "stream",
     "text": [
      "Loss at step 6921: 8562.306640625\nLoss at step 6941: 7486.296875\n"
     ]
    },
    {
     "name": "stdout",
     "output_type": "stream",
     "text": [
      "Loss at step 6961: 5938.94140625\nLoss at step 6981: 6111.39111328125\n"
     ]
    },
    {
     "name": "stdout",
     "output_type": "stream",
     "text": [
      "Loss at step 7001: 7091.4091796875\nLoss at step 7021: 17287.708984375\n"
     ]
    },
    {
     "name": "stdout",
     "output_type": "stream",
     "text": [
      "Loss at step 7041: 6930.8115234375\nLoss at step 7061: 6382.689453125\n"
     ]
    },
    {
     "name": "stdout",
     "output_type": "stream",
     "text": [
      "Loss at step 7081: 6950.2265625\nLoss at step 7101: 4716.58740234375\n"
     ]
    },
    {
     "name": "stdout",
     "output_type": "stream",
     "text": [
      "Loss at step 7121: 6685.4326171875\nLoss at step 7141: 5604.482421875\n"
     ]
    },
    {
     "name": "stdout",
     "output_type": "stream",
     "text": [
      "Loss at step 7161: 8313.39453125\nLoss at step 7181: 6854.31689453125\n"
     ]
    },
    {
     "name": "stdout",
     "output_type": "stream",
     "text": [
      "Loss at step 7201: 4579.7373046875\nLoss at step 7221: 8642.373046875\n"
     ]
    },
    {
     "name": "stdout",
     "output_type": "stream",
     "text": [
      "Loss at step 7241: 7885.705078125\nLoss at step 7261: 11191.248046875\n"
     ]
    },
    {
     "name": "stdout",
     "output_type": "stream",
     "text": [
      "Loss at step 7281: 10225.8671875\nLoss at step 7301: 5718.1572265625\n"
     ]
    },
    {
     "name": "stdout",
     "output_type": "stream",
     "text": [
      "Loss at step 7321: 8920.962890625\nLoss at step 7341: 7502.484375\n"
     ]
    },
    {
     "name": "stdout",
     "output_type": "stream",
     "text": [
      "Loss at step 7361: 5726.521484375\nLoss at step 7381: 6785.6611328125\n"
     ]
    },
    {
     "name": "stdout",
     "output_type": "stream",
     "text": [
      "Loss at step 7401: 8123.6943359375\nLoss at step 7421: 13664.923828125\n"
     ]
    },
    {
     "name": "stdout",
     "output_type": "stream",
     "text": [
      "Loss at step 7441: 6699.97412109375\nLoss at step 7461: 6450.0966796875\n"
     ]
    },
    {
     "name": "stdout",
     "output_type": "stream",
     "text": [
      "Loss at step 7481: 8406.8955078125\nLoss at step 7501: 10532.365234375\n"
     ]
    },
    {
     "name": "stdout",
     "output_type": "stream",
     "text": [
      "Loss at step 7521: 6377.60546875\nLoss at step 7541: 8031.0400390625\n"
     ]
    },
    {
     "name": "stdout",
     "output_type": "stream",
     "text": [
      "Loss at step 7561: 6812.50537109375\nLoss at step 7581: 8472.66796875\n"
     ]
    },
    {
     "name": "stdout",
     "output_type": "stream",
     "text": [
      "Loss at step 7601: 5002.99853515625\nLoss at step 7621: 6295.638671875\n"
     ]
    },
    {
     "name": "stdout",
     "output_type": "stream",
     "text": [
      "Loss at step 7641: 9646.994140625\nLoss at step 7661: 7285.42236328125\n"
     ]
    },
    {
     "name": "stdout",
     "output_type": "stream",
     "text": [
      "Loss at step 7681: 9534.91015625\nLoss at step 7701: 7465.9765625\n"
     ]
    },
    {
     "name": "stdout",
     "output_type": "stream",
     "text": [
      "Loss at step 7721: 5189.521484375\nLoss at step 7741: 5350.5322265625\n"
     ]
    },
    {
     "name": "stdout",
     "output_type": "stream",
     "text": [
      "Loss at step 7761: 7761.97509765625\nLoss at step 7781: 7903.7265625\n"
     ]
    },
    {
     "name": "stdout",
     "output_type": "stream",
     "text": [
      "Loss at step 7801: 4954.08203125\nLoss at step 7821: 7676.22119140625\n"
     ]
    },
    {
     "name": "stdout",
     "output_type": "stream",
     "text": [
      "Loss at step 7841: 6173.35205078125\nLoss at step 7861: 7212.357421875\n"
     ]
    },
    {
     "name": "stdout",
     "output_type": "stream",
     "text": [
      "Loss at step 7881: 5277.96923828125\nLoss at step 7901: 6319.6533203125\n"
     ]
    },
    {
     "name": "stdout",
     "output_type": "stream",
     "text": [
      "Loss at step 7921: 5932.9990234375\nLoss at step 7941: 5354.7099609375\n"
     ]
    },
    {
     "name": "stdout",
     "output_type": "stream",
     "text": [
      "Loss at step 7961: 8971.806640625\nLoss at step 7981: 8112.24365234375\n"
     ]
    },
    {
     "name": "stdout",
     "output_type": "stream",
     "text": [
      "Loss at step 8001: 6678.47802734375\nLoss at step 8021: 6694.169921875\n"
     ]
    },
    {
     "name": "stdout",
     "output_type": "stream",
     "text": [
      "Loss at step 8041: 5633.875\nLoss at step 8061: 9956.0625\n"
     ]
    },
    {
     "name": "stdout",
     "output_type": "stream",
     "text": [
      "Loss at step 8081: 8562.7626953125\nLoss at step 8101: 5882.666015625\n"
     ]
    },
    {
     "name": "stdout",
     "output_type": "stream",
     "text": [
      "Loss at step 8121: 8289.513671875\nLoss at step 8141: 6053.796875\n"
     ]
    },
    {
     "name": "stdout",
     "output_type": "stream",
     "text": [
      "Loss at step 8161: 7439.43115234375\nLoss at step 8181: 7663.857421875\n"
     ]
    },
    {
     "name": "stdout",
     "output_type": "stream",
     "text": [
      "Loss at step 8201: 6327.40576171875\nLoss at step 8221: 6770.2607421875\n"
     ]
    },
    {
     "name": "stdout",
     "output_type": "stream",
     "text": [
      "Loss at step 8241: 10939.37890625\nLoss at step 8261: 9396.279296875\n"
     ]
    },
    {
     "name": "stdout",
     "output_type": "stream",
     "text": [
      "Loss at step 8281: 5363.0283203125\nLoss at step 8301: 7691.1962890625\n"
     ]
    },
    {
     "name": "stdout",
     "output_type": "stream",
     "text": [
      "Loss at step 8321: 4396.3427734375\nLoss at step 8341: 5947.21240234375\n"
     ]
    },
    {
     "name": "stdout",
     "output_type": "stream",
     "text": [
      "Loss at step 8361: 7087.17919921875\nLoss at step 8381: 7501.75634765625\n"
     ]
    },
    {
     "name": "stdout",
     "output_type": "stream",
     "text": [
      "Loss at step 8401: 7572.33935546875\nLoss at step 8421: 5446.1240234375\n"
     ]
    },
    {
     "name": "stdout",
     "output_type": "stream",
     "text": [
      "Loss at step 8441: 6906.052734375\nLoss at step 8461: 5830.9384765625\n"
     ]
    },
    {
     "name": "stdout",
     "output_type": "stream",
     "text": [
      "Loss at step 8481: 6400.2216796875\nLoss at step 8501: 6133.64453125\n"
     ]
    },
    {
     "name": "stdout",
     "output_type": "stream",
     "text": [
      "Loss at step 8521: 8196.388671875\nLoss at step 8541: 11164.201171875\n"
     ]
    },
    {
     "name": "stdout",
     "output_type": "stream",
     "text": [
      "Loss at step 8561: 6123.23876953125\nLoss at step 8581: 10326.2763671875\n"
     ]
    },
    {
     "name": "stdout",
     "output_type": "stream",
     "text": [
      "Loss at step 8601: 5705.01171875\nLoss at step 8621: 4703.0341796875\n"
     ]
    },
    {
     "name": "stdout",
     "output_type": "stream",
     "text": [
      "Loss at step 8641: 9803.953125\nLoss at step 8661: 8122.36962890625\n"
     ]
    },
    {
     "name": "stdout",
     "output_type": "stream",
     "text": [
      "Loss at step 8681: 8345.5078125\nLoss at step 8701: 7798.45947265625\n"
     ]
    },
    {
     "name": "stdout",
     "output_type": "stream",
     "text": [
      "Loss at step 8721: 4712.96875\nLoss at step 8741: 6924.95361328125\n"
     ]
    },
    {
     "name": "stdout",
     "output_type": "stream",
     "text": [
      "Loss at step 8761: 5136.30078125\nLoss at step 8781: 5341.841796875\n"
     ]
    },
    {
     "name": "stdout",
     "output_type": "stream",
     "text": [
      "Loss at step 8801: 6302.91748046875\nLoss at step 8821: 17280.59375\n"
     ]
    },
    {
     "name": "stdout",
     "output_type": "stream",
     "text": [
      "Loss at step 8841: 6942.9794921875\nLoss at step 8861: 5029.2197265625\n"
     ]
    },
    {
     "name": "stdout",
     "output_type": "stream",
     "text": [
      "Loss at step 8881: 6730.7138671875\nLoss at step 8901: 6514.4013671875\n"
     ]
    },
    {
     "name": "stdout",
     "output_type": "stream",
     "text": [
      "Loss at step 8921: 5895.30859375\nLoss at step 8941: 5327.45458984375\n"
     ]
    },
    {
     "name": "stdout",
     "output_type": "stream",
     "text": [
      "Loss at step 8961: 6621.01171875\nLoss at step 8981: 6663.25244140625\n"
     ]
    },
    {
     "name": "stdout",
     "output_type": "stream",
     "text": [
      "Loss at step 9001: 4202.9814453125\nLoss at step 9021: 7608.5498046875\n"
     ]
    },
    {
     "name": "stdout",
     "output_type": "stream",
     "text": [
      "Loss at step 9041: 7849.09423828125\nLoss at step 9061: 11069.4873046875\n"
     ]
    },
    {
     "name": "stdout",
     "output_type": "stream",
     "text": [
      "Loss at step 9081: 9192.404296875\nLoss at step 9101: 5700.93359375\n"
     ]
    },
    {
     "name": "stdout",
     "output_type": "stream",
     "text": [
      "Loss at step 9121: 8647.6328125\nLoss at step 9141: 7013.416015625\n"
     ]
    },
    {
     "name": "stdout",
     "output_type": "stream",
     "text": [
      "Loss at step 9161: 5165.90625\nLoss at step 9181: 6902.99853515625\n"
     ]
    },
    {
     "name": "stdout",
     "output_type": "stream",
     "text": [
      "Loss at step 9201: 7030.7392578125\nLoss at step 9221: 12153.92578125\n"
     ]
    },
    {
     "name": "stdout",
     "output_type": "stream",
     "text": [
      "Loss at step 9241: 6220.20166015625\nLoss at step 9261: 5134.4541015625\n"
     ]
    },
    {
     "name": "stdout",
     "output_type": "stream",
     "text": [
      "Loss at step 9281: 8054.91357421875\nLoss at step 9301: 10255.89453125\n"
     ]
    },
    {
     "name": "stdout",
     "output_type": "stream",
     "text": [
      "Loss at step 9321: 5902.6162109375\nLoss at step 9341: 5221.583984375\n"
     ]
    },
    {
     "name": "stdout",
     "output_type": "stream",
     "text": [
      "Loss at step 9361: 7553.439453125\n"
     ]
    },
    {
     "name": "stdout",
     "output_type": "stream",
     "text": [
      "Loss at step 9381: 7466.4052734375\nLoss at step 9401: 8734.6572265625\n"
     ]
    },
    {
     "name": "stdout",
     "output_type": "stream",
     "text": [
      "Loss at step 9421: 5710.884765625\nLoss at step 9441: 8478.7607421875\n"
     ]
    },
    {
     "name": "stdout",
     "output_type": "stream",
     "text": [
      "Loss at step 9461: 6580.1181640625\nLoss at step 9481: 8622.4609375\n"
     ]
    },
    {
     "name": "stdout",
     "output_type": "stream",
     "text": [
      "Loss at step 9501: 7232.150390625\nLoss at step 9521: 4890.13427734375\n"
     ]
    },
    {
     "name": "stdout",
     "output_type": "stream",
     "text": [
      "Loss at step 9541: 4839.1845703125\nLoss at step 9561: 7159.78515625\n"
     ]
    },
    {
     "name": "stdout",
     "output_type": "stream",
     "text": [
      "Loss at step 9581: 7405.099609375\nLoss at step 9601: 4779.4541015625\n"
     ]
    },
    {
     "name": "stdout",
     "output_type": "stream",
     "text": [
      "Loss at step 9621: 5952.96923828125\nLoss at step 9641: 5772.95556640625\n"
     ]
    },
    {
     "name": "stdout",
     "output_type": "stream",
     "text": [
      "Loss at step 9661: 6843.154296875\nLoss at step 9681: 4904.81640625\n"
     ]
    },
    {
     "name": "stdout",
     "output_type": "stream",
     "text": [
      "Loss at step 9701: 6767.111328125\nLoss at step 9721: 5499.609375\n"
     ]
    },
    {
     "name": "stdout",
     "output_type": "stream",
     "text": [
      "Loss at step 9741: 5125.650390625\nLoss at step 9761: 7749.83935546875\n"
     ]
    },
    {
     "name": "stdout",
     "output_type": "stream",
     "text": [
      "Loss at step 9781: 7896.70849609375\nLoss at step 9801: 6602.9951171875\n"
     ]
    },
    {
     "name": "stdout",
     "output_type": "stream",
     "text": [
      "Loss at step 9821: 5850.17578125\nLoss at step 9841: 5550.8564453125\n"
     ]
    },
    {
     "name": "stdout",
     "output_type": "stream",
     "text": [
      "Loss at step 9861: 8663.58984375\nLoss at step 9881: 7872.787109375\n"
     ]
    },
    {
     "name": "stdout",
     "output_type": "stream",
     "text": [
      "Loss at step 9901: 5086.1083984375\nLoss at step 9921: 7341.74072265625\n"
     ]
    },
    {
     "name": "stdout",
     "output_type": "stream",
     "text": [
      "Loss at step 9941: 4900.373046875\nLoss at step 9961: 6137.517578125\n"
     ]
    },
    {
     "name": "stdout",
     "output_type": "stream",
     "text": [
      "Loss at step 9981: 7705.05517578125\nLoss at step 10001: 5932.73046875\n"
     ]
    },
    {
     "name": "stdout",
     "output_type": "stream",
     "text": [
      "Loss at step 10021: 5839.201171875\nLoss at step 10041: 9367.021484375\n"
     ]
    },
    {
     "name": "stdout",
     "output_type": "stream",
     "text": [
      "Loss at step 10061: 8303.080078125\nLoss at step 10081: 5169.44384765625\n"
     ]
    },
    {
     "name": "stdout",
     "output_type": "stream",
     "text": [
      "Loss at step 10101: 6787.064453125\nLoss at step 10121: 4558.9375\n"
     ]
    },
    {
     "name": "stdout",
     "output_type": "stream",
     "text": [
      "Loss at step 10141: 5357.12255859375\nLoss at step 10161: 6505.76806640625\n"
     ]
    },
    {
     "name": "stdout",
     "output_type": "stream",
     "text": [
      "Loss at step 10181: 5870.578125\nLoss at step 10201: 7493.4248046875\n"
     ]
    },
    {
     "name": "stdout",
     "output_type": "stream",
     "text": [
      "Loss at step 10221: 4800.0771484375\nLoss at step 10241: 6425.10546875\n"
     ]
    },
    {
     "name": "stdout",
     "output_type": "stream",
     "text": [
      "Loss at step 10261: 5765.0\nLoss at step 10281: 5327.1875\n"
     ]
    },
    {
     "name": "stdout",
     "output_type": "stream",
     "text": [
      "Loss at step 10301: 5716.0693359375\nLoss at step 10321: 8066.3837890625\n"
     ]
    },
    {
     "name": "stdout",
     "output_type": "stream",
     "text": [
      "Loss at step 10341: 9749.802734375\nLoss at step 10361: 6073.24609375\n"
     ]
    },
    {
     "name": "stdout",
     "output_type": "stream",
     "text": [
      "Loss at step 10381: 9614.1005859375\nLoss at step 10401: 5361.71240234375\n"
     ]
    },
    {
     "name": "stdout",
     "output_type": "stream",
     "text": [
      "Loss at step 10421: 4501.0859375\nLoss at step 10441: 8980.390625\n"
     ]
    },
    {
     "name": "stdout",
     "output_type": "stream",
     "text": [
      "Loss at step 10461: 7547.072265625\nLoss at step 10481: 7134.55078125\n"
     ]
    },
    {
     "name": "stdout",
     "output_type": "stream",
     "text": [
      "Loss at step 10501: 7222.6513671875\nLoss at step 10521: 4842.68994140625\n"
     ]
    },
    {
     "name": "stdout",
     "output_type": "stream",
     "text": [
      "Loss at step 10541: 7532.21533203125\nLoss at step 10561: 5408.02587890625\n"
     ]
    },
    {
     "name": "stdout",
     "output_type": "stream",
     "text": [
      "Loss at step 10581: 5245.85107421875\nLoss at step 10601: 5893.34765625\n"
     ]
    },
    {
     "name": "stdout",
     "output_type": "stream",
     "text": [
      "Loss at step 10621: 16883.7734375\nLoss at step 10641: 7196.0849609375\n"
     ]
    },
    {
     "name": "stdout",
     "output_type": "stream",
     "text": [
      "Loss at step 10661: 4840.087890625\nLoss at step 10681: 7233.51953125\n"
     ]
    },
    {
     "name": "stdout",
     "output_type": "stream",
     "text": [
      "Loss at step 10701: 4591.88525390625\nLoss at step 10721: 5886.685546875\n"
     ]
    },
    {
     "name": "stdout",
     "output_type": "stream",
     "text": [
      "Loss at step 10741: 5414.498046875\nLoss at step 10761: 6239.7138671875\n"
     ]
    },
    {
     "name": "stdout",
     "output_type": "stream",
     "text": [
      "Loss at step 10781: 5931.52734375\nLoss at step 10801: 3928.40087890625\n"
     ]
    },
    {
     "name": "stdout",
     "output_type": "stream",
     "text": [
      "Loss at step 10821: 6020.4384765625\nLoss at step 10841: 7222.92578125\n"
     ]
    },
    {
     "name": "stdout",
     "output_type": "stream",
     "text": [
      "Loss at step 10861: 7604.84716796875\nLoss at step 10881: 7890.49462890625\n"
     ]
    },
    {
     "name": "stdout",
     "output_type": "stream",
     "text": [
      "Loss at step 10901: 5181.0078125\nLoss at step 10921: 8011.017578125\n"
     ]
    },
    {
     "name": "stdout",
     "output_type": "stream",
     "text": [
      "Loss at step 10941: 5545.03564453125\nLoss at step 10961: 4759.69580078125\n"
     ]
    },
    {
     "name": "stdout",
     "output_type": "stream",
     "text": [
      "Loss at step 10981: 6334.6650390625\nLoss at step 11001: 5505.51513671875\n"
     ]
    },
    {
     "name": "stdout",
     "output_type": "stream",
     "text": [
      "Loss at step 11021: 10825.15625\nLoss at step 11041: 7170.4365234375\n"
     ]
    },
    {
     "name": "stdout",
     "output_type": "stream",
     "text": [
      "Loss at step 11061: 4599.28515625\nLoss at step 11081: 8526.5439453125\n"
     ]
    },
    {
     "name": "stdout",
     "output_type": "stream",
     "text": [
      "Loss at step 11101: 9229.3603515625\nLoss at step 11121: 5477.423828125\n"
     ]
    },
    {
     "name": "stdout",
     "output_type": "stream",
     "text": [
      "Loss at step 11141: 4766.505859375\nLoss at step 11161: 7346.66650390625\n"
     ]
    },
    {
     "name": "stdout",
     "output_type": "stream",
     "text": [
      "Loss at step 11181: 6783.27294921875\nLoss at step 11201: 9204.7666015625\n"
     ]
    },
    {
     "name": "stdout",
     "output_type": "stream",
     "text": [
      "Loss at step 11221: 4065.211181640625\nLoss at step 11241: 7412.5419921875\n"
     ]
    },
    {
     "name": "stdout",
     "output_type": "stream",
     "text": [
      "Loss at step 11261: 5786.4775390625\nLoss at step 11281: 9001.9619140625\n"
     ]
    },
    {
     "name": "stdout",
     "output_type": "stream",
     "text": [
      "Loss at step 11301: 6535.54541015625\nLoss at step 11321: 5260.40087890625\n"
     ]
    },
    {
     "name": "stdout",
     "output_type": "stream",
     "text": [
      "Loss at step 11341: 4955.57861328125\nLoss at step 11361: 6671.1650390625\n"
     ]
    },
    {
     "name": "stdout",
     "output_type": "stream",
     "text": [
      "Loss at step 11381: 6490.49609375\nLoss at step 11401: 4403.9580078125\n"
     ]
    },
    {
     "name": "stdout",
     "output_type": "stream",
     "text": [
      "Loss at step 11421: 5185.677734375\nLoss at step 11441: 5475.236328125\n"
     ]
    },
    {
     "name": "stdout",
     "output_type": "stream",
     "text": [
      "Loss at step 11461: 5963.45703125\nLoss at step 11481: 4999.44873046875\n"
     ]
    },
    {
     "name": "stdout",
     "output_type": "stream",
     "text": [
      "Loss at step 11501: 6758.7841796875\nLoss at step 11521: 5552.984375\n"
     ]
    },
    {
     "name": "stdout",
     "output_type": "stream",
     "text": [
      "Loss at step 11541: 4598.77783203125\nLoss at step 11561: 7066.69775390625\n"
     ]
    },
    {
     "name": "stdout",
     "output_type": "stream",
     "text": [
      "Loss at step 11581: 7738.58203125\nLoss at step 11601: 6610.44482421875\n"
     ]
    },
    {
     "name": "stdout",
     "output_type": "stream",
     "text": [
      "Loss at step 11621: 5911.802734375\nLoss at step 11641: 5230.33349609375\n"
     ]
    },
    {
     "name": "stdout",
     "output_type": "stream",
     "text": [
      "Loss at step 11661: 8212.75390625\nLoss at step 11681: 14173.955078125\n"
     ]
    },
    {
     "name": "stdout",
     "output_type": "stream",
     "text": [
      "Loss at step 11701: 5303.9609375\nLoss at step 11721: 6501.6513671875\n"
     ]
    },
    {
     "name": "stdout",
     "output_type": "stream",
     "text": [
      "Loss at step 11741: 5065.5302734375\nLoss at step 11761: 6097.97216796875\n"
     ]
    },
    {
     "name": "stdout",
     "output_type": "stream",
     "text": [
      "Loss at step 11781: 7495.80224609375\nLoss at step 11801: 5680.6181640625\n"
     ]
    },
    {
     "name": "stdout",
     "output_type": "stream",
     "text": [
      "Loss at step 11821: 5065.8310546875\nLoss at step 11841: 9018.6845703125\n"
     ]
    },
    {
     "name": "stdout",
     "output_type": "stream",
     "text": [
      "Loss at step 11861: 8174.5234375\nLoss at step 11881: 4675.5283203125\n"
     ]
    },
    {
     "name": "stdout",
     "output_type": "stream",
     "text": [
      "Loss at step 11901: 6988.52490234375\nLoss at step 11921: 4931.66650390625\n"
     ]
    },
    {
     "name": "stdout",
     "output_type": "stream",
     "text": [
      "Loss at step 11941: 4496.3154296875\nLoss at step 11961: 6414.56298828125\n"
     ]
    },
    {
     "name": "stdout",
     "output_type": "stream",
     "text": [
      "Loss at step 11981: 5478.12060546875\nLoss at step 12001: 7505.28515625\n"
     ]
    },
    {
     "name": "stdout",
     "output_type": "stream",
     "text": [
      "Loss at step 12021: 4506.52734375\nLoss at step 12041: 6251.1103515625\n"
     ]
    },
    {
     "name": "stdout",
     "output_type": "stream",
     "text": [
      "Loss at step 12061: 5644.52685546875\nLoss at step 12081: 5055.83740234375\n"
     ]
    },
    {
     "name": "stdout",
     "output_type": "stream",
     "text": [
      "Loss at step 12101: 5578.2548828125\nLoss at step 12121: 8544.310546875\n"
     ]
    },
    {
     "name": "stdout",
     "output_type": "stream",
     "text": [
      "Loss at step 12141: 8714.6875\nLoss at step 12161: 5738.0869140625\n"
     ]
    },
    {
     "name": "stdout",
     "output_type": "stream",
     "text": [
      "Loss at step 12181: 9718.9599609375\nLoss at step 12201: 5084.7529296875\n"
     ]
    },
    {
     "name": "stdout",
     "output_type": "stream",
     "text": [
      "Loss at step 12221: 4577.611328125\nLoss at step 12241: 8615.13671875\n"
     ]
    },
    {
     "name": "stdout",
     "output_type": "stream",
     "text": [
      "Loss at step 12261: 8082.0078125\nLoss at step 12281: 6557.23681640625\n"
     ]
    },
    {
     "name": "stdout",
     "output_type": "stream",
     "text": [
      "Loss at step 12301: 7132.2880859375\nLoss at step 12321: 4409.3828125\n"
     ]
    },
    {
     "name": "stdout",
     "output_type": "stream",
     "text": [
      "Loss at step 12341: 6960.4658203125\nLoss at step 12361: 4860.48779296875\n"
     ]
    },
    {
     "name": "stdout",
     "output_type": "stream",
     "text": [
      "Loss at step 12381: 5040.0234375\nLoss at step 12401: 6138.48046875\n"
     ]
    },
    {
     "name": "stdout",
     "output_type": "stream",
     "text": [
      "Loss at step 12421: 16880.080078125\nLoss at step 12441: 7030.6689453125\n"
     ]
    },
    {
     "name": "stdout",
     "output_type": "stream",
     "text": [
      "Loss at step 12461: 4624.3115234375\nLoss at step 12481: 7099.68212890625\n"
     ]
    },
    {
     "name": "stdout",
     "output_type": "stream",
     "text": [
      "Loss at step 12501: 4425.5654296875\nLoss at step 12521: 5044.876953125\n"
     ]
    },
    {
     "name": "stdout",
     "output_type": "stream",
     "text": [
      "Loss at step 12541: 5031.4873046875\nLoss at step 12561: 5870.7763671875\n"
     ]
    },
    {
     "name": "stdout",
     "output_type": "stream",
     "text": [
      "Loss at step 12581: 4283.32470703125\nLoss at step 12601: 3961.52734375\n"
     ]
    },
    {
     "name": "stdout",
     "output_type": "stream",
     "text": [
      "Loss at step 12621: 5399.14111328125\nLoss at step 12641: 6869.43505859375\n"
     ]
    },
    {
     "name": "stdout",
     "output_type": "stream",
     "text": [
      "Loss at step 12661: 7161.8447265625\nLoss at step 12681: 6954.08544921875\n"
     ]
    },
    {
     "name": "stdout",
     "output_type": "stream",
     "text": [
      "Loss at step 12701: 5150.08056640625\nLoss at step 12721: 7060.388671875\n"
     ]
    },
    {
     "name": "stdout",
     "output_type": "stream",
     "text": [
      "Loss at step 12741: 4941.5322265625\nLoss at step 12761: 4899.966796875\n"
     ]
    },
    {
     "name": "stdout",
     "output_type": "stream",
     "text": [
      "Loss at step 12781: 4917.3486328125\nLoss at step 12801: 4622.43603515625\n"
     ]
    },
    {
     "name": "stdout",
     "output_type": "stream",
     "text": [
      "Loss at step 12821: 10617.634765625\nLoss at step 12841: 6568.6904296875\n"
     ]
    },
    {
     "name": "stdout",
     "output_type": "stream",
     "text": [
      "Loss at step 12861: 4550.271484375\nLoss at step 12881: 7877.92138671875\n"
     ]
    },
    {
     "name": "stdout",
     "output_type": "stream",
     "text": [
      "Loss at step 12901: 8336.4609375\nLoss at step 12921: 5084.42626953125\n"
     ]
    },
    {
     "name": "stdout",
     "output_type": "stream",
     "text": [
      "Loss at step 12941: 4478.68115234375\nLoss at step 12961: 7230.9775390625\n"
     ]
    },
    {
     "name": "stdout",
     "output_type": "stream",
     "text": [
      "Loss at step 12981: 6416.439453125\nLoss at step 13001: 9322.0\n"
     ]
    },
    {
     "name": "stdout",
     "output_type": "stream",
     "text": [
      "Loss at step 13021: 4258.79541015625\nLoss at step 13041: 7213.54736328125\n"
     ]
    },
    {
     "name": "stdout",
     "output_type": "stream",
     "text": [
      "Loss at step 13061: 5162.73974609375\nLoss at step 13081: 6472.5654296875\n"
     ]
    },
    {
     "name": "stdout",
     "output_type": "stream",
     "text": [
      "Loss at step 13101: 6308.9228515625\nLoss at step 13121: 5533.51708984375\n"
     ]
    },
    {
     "name": "stdout",
     "output_type": "stream",
     "text": [
      "Loss at step 13141: 4914.9140625\nLoss at step 13161: 6669.5927734375\n"
     ]
    },
    {
     "name": "stdout",
     "output_type": "stream",
     "text": [
      "Loss at step 13181: 5867.876953125\nLoss at step 13201: 4555.9072265625\n"
     ]
    },
    {
     "name": "stdout",
     "output_type": "stream",
     "text": [
      "Loss at step 13221: 5295.25830078125\nLoss at step 13241: 5646.57568359375\n"
     ]
    },
    {
     "name": "stdout",
     "output_type": "stream",
     "text": [
      "Loss at step 13261: 5447.119140625\nLoss at step 13281: 4119.47998046875\n"
     ]
    },
    {
     "name": "stdout",
     "output_type": "stream",
     "text": [
      "Loss at step 13301: 6922.6943359375\nLoss at step 13321: 5368.80517578125\n"
     ]
    },
    {
     "name": "stdout",
     "output_type": "stream",
     "text": [
      "Loss at step 13341: 4249.318359375\nLoss at step 13361: 6551.673828125\n"
     ]
    },
    {
     "name": "stdout",
     "output_type": "stream",
     "text": [
      "Loss at step 13381: 12805.5234375\nLoss at step 13401: 6652.38330078125\n"
     ]
    },
    {
     "name": "stdout",
     "output_type": "stream",
     "text": [
      "Loss at step 13421: 5683.189453125\nLoss at step 13441: 5034.642578125\n"
     ]
    },
    {
     "name": "stdout",
     "output_type": "stream",
     "text": [
      "Loss at step 13461: 8202.162109375\nLoss at step 13481: 13705.04296875\n"
     ]
    },
    {
     "name": "stdout",
     "output_type": "stream",
     "text": [
      "Loss at step 13501: 6198.10693359375\nLoss at step 13521: 6159.6376953125\n"
     ]
    },
    {
     "name": "stdout",
     "output_type": "stream",
     "text": [
      "Loss at step 13541: 6337.3056640625\nLoss at step 13561: 5414.54052734375\n"
     ]
    },
    {
     "name": "stdout",
     "output_type": "stream",
     "text": [
      "Loss at step 13581: 7449.892578125\nLoss at step 13601: 5722.4853515625\n"
     ]
    },
    {
     "name": "stdout",
     "output_type": "stream",
     "text": [
      "Loss at step 13621: 4967.83154296875\nLoss at step 13641: 7507.0595703125\n"
     ]
    },
    {
     "name": "stdout",
     "output_type": "stream",
     "text": [
      "Loss at step 13661: 9292.900390625\nLoss at step 13681: 3933.431884765625\n"
     ]
    },
    {
     "name": "stdout",
     "output_type": "stream",
     "text": [
      "Loss at step 13701: 6403.34228515625\nLoss at step 13721: 5069.638671875\n"
     ]
    },
    {
     "name": "stdout",
     "output_type": "stream",
     "text": [
      "Loss at step 13741: 3952.114501953125\nLoss at step 13761: 5991.9091796875\n"
     ]
    },
    {
     "name": "stdout",
     "output_type": "stream",
     "text": [
      "Loss at step 13781: 5435.3125\n"
     ]
    }
   ],
   "source": [
    "batches_count_epoch = len(X_train) // batch_size_doc\n",
    "num_steps = 100 * batches_count_epoch\n",
    "\n",
    "print('batches_count_epoch={}\\nnum_steps={}\\n'.format(batches_count_epoch, num_steps))\n",
    "\n",
    "session = tf.Session(config=tf.ConfigProto(allow_soft_placement=True))\n",
    "# Initialize the variables in the graph\n",
    "session.run(tf.global_variables_initializer())\n",
    "print('Initialized')\n",
    "\n",
    "for step in range(num_steps):\n",
    "    batch_input, batch_targets = generate_batch_ffnn(batch_size_doc, feature_size)\n",
    "    feed_dict = {train_input: batch_input, train_targets: batch_targets}\n",
    "    _, l = session.run([optimizer2, loss2], feed_dict=feed_dict)\n",
    "\n",
    "    if step % 20 == 0:\n",
    "        print('Loss at step {}: {}'.format(step + 1, l))\n"
   ]
  },
  {
   "cell_type": "markdown",
   "metadata": {},
   "source": [
    "## Making Price Predictions on Test Data"
   ]
  },
  {
   "cell_type": "code",
   "execution_count": 87,
   "metadata": {},
   "outputs": [
    {
     "data": {
      "text/plain": [
       "array([[ 85.,  82.,  41.,  61.,  79., 128., 109.,   9.,  54., 157.],\n       [100., 100.,  60., 100.,  50., 950., 100.,  35., 130., 125.]])"
      ]
     },
     "execution_count": 87,
     "metadata": {},
     "output_type": "execute_result"
    }
   ],
   "source": [
    "feed_dict = {train_input: X_test[0:batch_size_doc]}\n",
    "result = session.run(train_output, feed_dict)\n",
    "\n",
    "result = np.int32(result)\n",
    "result = result.reshape([batch_size_doc, ])\n",
    "\n",
    "comp = np.empty([2, 10])\n",
    "comp[0] = result[0:10]\n",
    "comp[1] = y_test[0:10]\n",
    "comp\n"
   ]
  },
  {
   "cell_type": "markdown",
   "metadata": {},
   "source": [
    " 82   94    82  61    92  192  46    15  82   140]\n",
    "[100. 100.  60. 100.  50. 950. 100.  35. 130. 125.]"
   ]
  },
  {
   "cell_type": "code",
   "execution_count": 88,
   "metadata": {},
   "outputs": [],
   "source": [
    "session.close()"
   ]
  },
  {
   "cell_type": "code",
   "execution_count": null,
   "metadata": {},
   "outputs": [],
   "source": []
  }
 ],
 "metadata": {
  "kernelspec": {
   "display_name": "Python 2",
   "language": "python",
   "name": "python2"
  },
  "language_info": {
   "codemirror_mode": {
    "name": "ipython",
    "version": 2
   },
   "file_extension": ".py",
   "mimetype": "text/x-python",
   "name": "python",
   "nbconvert_exporter": "python",
   "pygments_lexer": "ipython2",
   "version": "2.7.6"
  }
 },
 "nbformat": 4,
 "nbformat_minor": 0
}
